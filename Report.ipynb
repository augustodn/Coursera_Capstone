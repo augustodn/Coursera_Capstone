{
 "cells": [
  {
   "cell_type": "markdown",
   "metadata": {},
   "source": [
    "<h1> Applied Data Science Coursera Capstone </h1>"
   ]
  },
  {
   "cell_type": "markdown",
   "metadata": {},
   "source": [
    "<h2>Introduction</h2>\n",
    "\n",
    "Every day many car drivers have face destiny an hit the road. Car accidents are one of the most undesirable and unexpected events which may happen to a road user. There may be several reasons to start a car journey: commuting to work, going out dinner, visit friends or family, going out for holidays. \n",
    "\n",
    "In year 2010, there were 32,999 people killed, 3.9 million were injured, and 24 million vehicles were damaged in motor vehicle crashes in the United States. The economic costs of these crashes totaled 242 billion dollars. Included in these losses are lost productivity, medical costs, legal and court costs, emergency service costs (EMS), insurance administration costs, congestion costs, property damage, and workplace losses. This represents a 1.6 percent of the $ 14.96 trillion real Gross Domestic Product for 2010.\n",
    "\n",
    "All levels of society - the individual crash victims and their families, their employers, and society at large scale - are affected by motor vehicle crashes in many ways. It would be great if we can provide real-time conditions and estimate the trip safeness. In this way, we can decide beforehand if we want to take the risk, based on reliable information.\n",
    "\n",
    "<h2>Business Problem</h2>\n",
    "The aim of the project is to use relevant information which can help road users, insurance companies, employers, health care providers, road maintainers and traffic congestion models, between others. Using Data Analysis and training different Machine Learning models, the best one will be chosen to predict the severity of a car accident. \n",
    "\n",
    "The model will include variables such as weather, road and light conditions. It will also generate some insights in the type of accident based on the amount of people travelling in the car, the place where the accidents takes place most frequently, severity of the accident while driving under substances abuse, the impact of distraction while driving, such as using the mobile phone and some others. It will also aid to have a better understanding of the actual road conditions, likeliness of an impact, how to reduce incidents and the hot accident zones."
   ]
  },
  {
   "cell_type": "markdown",
   "metadata": {},
   "source": [
    "<h2>Target Audience</h2>\n",
    "The results will help road users, insurance companies, employers, health care providers, road maintainers and traffic congestion models, between others in the Seattle WA Area. It will also aid to have a better understanding of the actual road conditions, likeliness of an impact, how to reduce incidents and the hot accident zones. These insights can be helpful to the government sector in how to develop new infrastructure.\n",
    "\n",
    "\n",
    "<h2>Data</h2>\n",
    "\n",
    "The data used in the analysis is provided by the <a href=\"https://www.seattle.gov/transportation/about-us/organization\">Traffic Records Group in the SDOT Traffic Management Division from Seattle, WA.</a>  Their work is centered on a transportation system that provides safe and affordable access to places and opportunities. The data includes all collisions provided by the Seattle Police Department and recorded by the Traffic Record, displayed at the intersection or mid-block of a segment from 2004 to the present.\n",
    "\n",
    "The attributes to use are depicted in the following table\n",
    "\n",
    "| Feature | Description |\n",
    "| --- | --- |\n",
    "| Location | Latitude and longitude of the incident |\n",
    "| Road Condition | Status of the road at the collision moment |\n",
    "| Weather Condition | Bla |\n",
    "| Junction Type | Block or intersection |\n",
    "| Collision Type | Bla |\n",
    "| Car Speeding | Bla |\n",
    "| Number of People Involved | |\n",
    "| Light Conditions | |\n",
    "| Number of Vehicles involved | |\n",
    "| Alcohol or Drug-impaired driving | |\n",
    "| Inattention | |"
   ]
  },
  {
   "cell_type": "markdown",
   "metadata": {},
   "source": [
    "<h3> Data cleaning </h3>\n",
    "<img src=\"./fig/severity_count.png\" alt=\"Collisions\" style=\"width:50%\">\n",
    "<h3> Feature Selection </h3>\n",
    "<img src=\"./fig/feature_extraction.png\" alt=\"Collisions\" style=\"width:60%\">\n",
    "Feature ADDRTYPE: 0.019883\n",
    "Feature COLLISIONTYPE: 0.126144\n",
    "Feature JUNCTIONTYPE: 0.025643\n",
    "Feature WEATHER: 0.003124\n",
    "Feature ROADCOND: 0.002039\n",
    "Feature LIGHTCOND: 0.004593\n",
    "Feature SPEEDING: 0.000739\n",
    "Feature UNDERINFL: 0.001181\n",
    "Feature INATTENTIONIND: 0.001129\n",
    "\n"
   ]
  },
  {
   "cell_type": "markdown",
   "metadata": {},
   "source": [
    "<h2> Exploratory Analysis</h2>\n",
    "The data shows some relevant information which delivers insights that may be useful for future infrastructure city planning. It is also important to have in mind that some variables choosen can not be used to create a predictive model, since it is based in information collected after the accident had taken place. The data analyzed in the following paragraphs has balanced events in both of them. Not severe collisions, which are almost as double as frequent than severe ones, have been undersampled. For further information please visit the Data Cleaning Subsection.\n",
    "<h3> Severity and Collisions </h3>\n",
    "One important aspect that the data reveals is about the severity of accidents based on the collision type. This feature has different characteristics based in the area of impact, such as: angles, parked car, rear end, right turn, sideswipe, head on, left turn, pedestrian and cycles. All those variables, their frequency and the collision severity can be found in the figure below.\n",
    "\n",
    "<img src=\"./fig/collisions.png\" alt=\"Collisions\" style=\"width:70%\">\n",
    "\n",
    "Accidents involving car damaged parts such as angles or the rear side as well as left turns tend to be more dangerous, since involves some personal damage to the car users. Also, those collisions involving pedestrian or cycles in general are riskier than others. Also important to notice is that left turns are generally riskier than right one, which might be related to those turns from avenues to streets. It has been described some escenarios where there severity is prone to personal injuries. However, some other impacts in different escenarios such as car parking or sideswipes -generally speaking- involve less risk to car passengers.\n",
    "<h3> Mid-Block vs. Intersections </h3>\n",
    "The data analyzed throws enough information to infer that severe accidents happen more frequently in interesections rather than in the middle of the blocks. In the same way, mid-block collisions are not severe, involving only car damage in most of the cases.\n",
    "\n",
    "<img src=\"./fig/junction.png\" alt=\"Junction Type\" style=\"width:90%\">\n",
    "\n",
    "<h3> Weather and Light conditions </h3>\n",
    "Weather and light conditions reveal some insights, although the differences in the severity is only slighty biased to one of the sides. There are more ocurrences of severe collisions during daylight whereas car drivers tend to have less injuries while driving during the night over streets with the lights on. The reason for this may be related to a more cautious driving during the night which predispose the people to an awareness state. Dusk and dawn tend to be related to more severe collisions, maybe because of the visibility reduction while facing the sun direct to the vision zone. In the same terms, apparently, severe accidents are slightly more frequent during rainy weather as well as with wet roads.\n",
    "\n",
    "<img src=\"./fig/weather_light.png\" alt=\"Weather and Light Cond\" style=\"width:100%\">\n",
    "\n",
    "<h3> Severity based on number of cars and people invoved </h3>\n",
    "Finally, collisions involving multiple car or people tend to be more severe than others. However, at the same time they are more unfrequent. The plots reveal also that most of the times, accidents involve 2 people and 2 vehicles. The impacts also tend to be not so severe, implying -luckily- only damaged to the cars participating in the incident.\n",
    "\n",
    "<img src=\"./fig/veh_person_count.png\" alt=\"Vehicles and People\" style=\"width:100%\">\n",
    "\n",
    "<h3> Clustering collisions in diferent spacial areas</h3>\n",
    "One relevant question to explore is, where are most of the accidents ocurring? Are there some hot zones where is most probable to have a collision?. In the following pictures a map including clusters with incidents is displayed.\n",
    "\n",
    "<img src=\"./fig/map/1.png\" alt=\"Wide Map with clusters\" style=\"width:80%\">\n",
    "\n",
    "It is pretty clear that most of the accidents occurs in Pioneer Square, Yesler Terrace, the Downtown, Belltown and Pike/Pine. A closer picture let us recreate smaller clusters which shows further information about these areas.\n",
    "\n",
    "<img src=\"./fig/map/3.png\" alt=\"Wide Map with clusters\" style=\"width:80%\">\n",
    "\n",
    "The last picture show us that the Downtown and the North-Eastern neighbours are the ones with more events. These neighbours shoud take more attention and further evaluation from the local government and transportation division to increase infrastructure and to reduce the collision incidences. Clearly this is the hot accident spot in the metropolis where car users have to pay extra attention in their maneuvers."
   ]
  },
  {
   "cell_type": "markdown",
   "metadata": {},
   "source": [
    "<h2> Predictive Modelling </h2>\n"
   ]
  },
  {
   "cell_type": "markdown",
   "metadata": {},
   "source": [
    "<h2> Results </h2>\n",
    "<h2> Discussion </h2>\n",
    "<h2> Conclusion </h2>"
   ]
  },
  {
   "cell_type": "code",
   "execution_count": null,
   "metadata": {},
   "outputs": [],
   "source": []
  }
 ],
 "metadata": {
  "kernelspec": {
   "display_name": "Python 3",
   "language": "python",
   "name": "python3"
  },
  "language_info": {
   "codemirror_mode": {
    "name": "ipython",
    "version": 3
   },
   "file_extension": ".py",
   "mimetype": "text/x-python",
   "name": "python",
   "nbconvert_exporter": "python",
   "pygments_lexer": "ipython3",
   "version": "3.8.5"
  }
 },
 "nbformat": 4,
 "nbformat_minor": 4
}
