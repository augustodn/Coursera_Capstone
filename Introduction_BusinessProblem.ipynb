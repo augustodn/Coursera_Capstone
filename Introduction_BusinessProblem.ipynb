{
 "cells": [
  {
   "cell_type": "markdown",
   "metadata": {},
   "source": [
    "<h1> Applied Data Science Coursera Capstone </h1>"
   ]
  },
  {
   "cell_type": "markdown",
   "metadata": {},
   "source": [
    "<h2>Introduction</h2>\n",
    "\n",
    "Every day many car drivers have face destiny an hit the road. Car accidents are one of the most undesirable and unexpected events which may happen to a road user. There may be several reasons to start a car journey: conmuting to work, going out dinner, visit friends or family, going out for holidays. \n",
    "\n",
    "In year 2010, there were 32,999 people killed, 3.9 million were injured, and 24 million vehicles were damaged in motor vehicle crashes in the United States. The economic costs of these crashes totaled 242 billion dollars. Included in these losses are lost productivity, medical costs, legal and court costs, emergency service costs (EMS), insurance administration costs, congestion costs, property damage, and workplace losses. This represents a 1.6 percent of the $ 14.96 trillion real Gross Domestic Product for 2010.\n",
    "\n",
    "All levels of society - the individual crash victims and their families, their employers, and society at large scale - are affected by motor vehicle crashes in many ways. It would be great if we can provide realtime conditions and estimate the trip safeness. In this way, we can decide beforehand if we want to take the risk, based on reliable information."
   ]
  },
  {
   "cell_type": "markdown",
   "metadata": {},
   "source": [
    "<h2>Business Problem</h2>\n",
    "The objective of this project is to find the most suitable location for the entrepreneur to open a new South Indian restaurant in Toronto, Canada. By using Data analysis, and machine learning algorithms like clustering, this project aims to provide solutions to answer to the business problem: In Toronto, if an entrepreneur wants to open a new South Indian restaurant, where should he consider opening it?\n",
    "\n",
    "The aim of the project is to use relevant information which can help road users, insurance companies, employers, health care providers, road maintainers and traffic congestion models, between others. Using Data Analysis and training different Machine Learning models, the best one will be choosen to predict the severity of a car accident. \n",
    "\n",
    "The model will include variables such as weather, road and light conditions. It will also generate some insights in the type of accident based on the amount of people travelling in the car, the place where the accidents takes place most frequently, severity of the accident while driving under substances abuse, the impact of distraction while driving, such as using the mobile phone and some others. It will also aid to have a better understanding of the actual road conditions, likeliness of an impact, how to reduce incidents and the hot accident zones.\n"
   ]
  },
  {
   "cell_type": "code",
   "execution_count": null,
   "metadata": {},
   "outputs": [],
   "source": []
  }
 ],
 "metadata": {
  "kernelspec": {
   "display_name": "Python 3",
   "language": "python",
   "name": "python3"
  },
  "language_info": {
   "codemirror_mode": {
    "name": "ipython",
    "version": 3
   },
   "file_extension": ".py",
   "mimetype": "text/x-python",
   "name": "python",
   "nbconvert_exporter": "python",
   "pygments_lexer": "ipython3",
   "version": "3.8.5"
  }
 },
 "nbformat": 4,
 "nbformat_minor": 4
}
