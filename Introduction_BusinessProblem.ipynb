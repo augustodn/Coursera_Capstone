{
 "cells": [
  {
   "cell_type": "markdown",
   "metadata": {},
   "source": [
    "Business Understanding - A description of the problem and a discussion of the background. \n",
    "\n",
    "Predict accident severity taking into account:\n",
    "<ul>\n",
    "    <li> Weather Conditions </li>\n",
    "    <li> Road Conditions </li>\n",
    "</ul>"
   ]
  },
  {
   "cell_type": "markdown",
   "metadata": {},
   "source": [
    "<h2>Introduction</h2>\n",
    "\n",
    "Every day many car drivers have to take a sit in its car and take the long journey to their workplace. Event if it's not to their workplace, there may be several reasons to start a ride with the car, such as going out to dinner, visit friends or family. \n",
    "\n",
    "However these trips, involve an inherent risk of accidents and fatalities and unfortunately we (as car drivers) don't have enough information to decide whether the journey can be safe to take it or not. \n",
    "\n",
    "It would be great if we can provide realtime conditions and estimate the trip safeness. In this way, we can decide beforehand if we want to take the risk, based on reliable information. "
   ]
  },
  {
   "cell_type": "markdown",
   "metadata": {},
   "source": [
    "<h2>Business Problem</h2>"
   ]
  },
  {
   "cell_type": "code",
   "execution_count": null,
   "metadata": {},
   "outputs": [],
   "source": []
  }
 ],
 "metadata": {
  "kernelspec": {
   "display_name": "Python 3",
   "language": "python",
   "name": "python3"
  },
  "language_info": {
   "codemirror_mode": {
    "name": "ipython",
    "version": 3
   },
   "file_extension": ".py",
   "mimetype": "text/x-python",
   "name": "python",
   "nbconvert_exporter": "python",
   "pygments_lexer": "ipython3",
   "version": "3.8.5"
  }
 },
 "nbformat": 4,
 "nbformat_minor": 4
}
