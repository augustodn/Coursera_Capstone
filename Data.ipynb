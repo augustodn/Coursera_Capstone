{
 "cells": [
  {
   "cell_type": "markdown",
   "metadata": {},
   "source": [
    "<h1> Applied Data Science Coursera Capstone </h1>"
   ]
  },
  {
   "cell_type": "markdown",
   "metadata": {},
   "source": [
    "<h2>Target Audience</h2>\n",
    "The results will help road users, insurance companies, employers, health care providers, road maintainers and traffic congestion models, between others in the Seattle WA Area. It will also aid to have a better understanding of the actual road conditions, likeliness of an impact, how to reduce incidents and the hot accident zones. These insights can be heplful to the government sector in how to develop new infraestructure.\n",
    "\n",
    "\n",
    "\n",
    "To solve the problem, we need the following data:\n",
    "List of Neighborhoods in Toronto, Canada.\n",
    "Latitude and Longitude of this Neighborhood.\n",
    "Venue data related to Indian restaurants. This will help us find the neighborhoods that are most suitable to open a South Indian restaurant.\n",
    "\n",
    "\n",
    "<h2>Data</h2>\n",
    "\n",
    "The data used in the analysis is provided by the <a href=\"https://www.seattle.gov/transportation/about-us/organization\">Traffic Records Group in the SDOT Traffic Management Division from Seattle, WA.</a>  Their work is centered on a transportation system that provides safe and affordable access to places and opportunities. The data includes all collisions provided by the Seattle Police Department and recorded by the Traffic Record, displayed at the intersection or mid-block of a segment from 2004 to the present.\n",
    "\n",
    "The attributes to use:\n",
    "<ul>\n",
    "    <li> Location: Latitude and Longitude</li>\n",
    "    <li> Road Condition </li>\n",
    "    <li> Weather Condition </li>\n",
    "    <li> Junction Type </li>\n",
    "    <li> Collision Type </li>\n",
    "    <li> Car Speeding </li>\n",
    "    <li> Number of People Involved </li>\n",
    "    <li> Light Conditions </li>\n",
    "    <li> Number of Vehicles involved </li>\n",
    "    <li> Alcohol or Drug-impared driving </li>\n",
    "    <li> Inattention </li>\n",
    "</ul>"
   ]
  }
 ],
 "metadata": {
  "kernelspec": {
   "display_name": "Python 3",
   "language": "python",
   "name": "python3"
  },
  "language_info": {
   "codemirror_mode": {
    "name": "ipython",
    "version": 3
   },
   "file_extension": ".py",
   "mimetype": "text/x-python",
   "name": "python",
   "nbconvert_exporter": "python",
   "pygments_lexer": "ipython3",
   "version": "3.8.5"
  }
 },
 "nbformat": 4,
 "nbformat_minor": 4
}
