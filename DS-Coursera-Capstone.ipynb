{
 "cells": [
  {
   "cell_type": "markdown",
   "metadata": {},
   "source": [
    "<h1> Applied Data Science Coursera Capstone </h1>"
   ]
  },
  {
   "cell_type": "markdown",
   "metadata": {},
   "source": [
    "The purpose of this notebook is to accomplish the Applied Data Science Coursera Capstone requirements"
   ]
  },
  {
   "cell_type": "code",
   "execution_count": 1,
   "metadata": {},
   "outputs": [
    {
     "name": "stdout",
     "output_type": "stream",
     "text": [
      "Hello Capstone Project Course!\n"
     ]
    }
   ],
   "source": [
    "#!jt -t oceans16 -fs 12 -ofs 12\n",
    "import pandas as pd\n",
    "import numpy as np"
   ]
  },
  {
   "cell_type": "markdown",
   "metadata": {},
   "source": [
    "Business Understanding - A description of the problem and a discussion of the background. \n",
    "\n",
    "Predict accident severity taking into account:\n",
    "<ul>\n",
    "    <li> Weather Conditions </li>\n",
    "    <li> Road Conditions </li>\n",
    "</ul>"
   ]
  },
  {
   "cell_type": "markdown",
   "metadata": {},
   "source": [
    "Data Understanding - A description of the data and how it will be used to solve the problem. \n",
    "\n",
    "Attributes to use:\n",
    "<ul>\n",
    "    <li> Location </li>\n",
    "    <li> Road Condition </li>\n",
    "    <li> Weather Condition </li>\n",
    "    <li> Junction Type </li>\n",
    "    <li> Car Speeding </li>\n",
    "    <li> Number of People Involved </li>\n",
    "    <li> Light Conditions </li>\n",
    "    <li> Number of Vehicles involved </li>\n",
    "</ul>"
   ]
  },
  {
   "cell_type": "code",
   "execution_count": 2,
   "metadata": {},
   "outputs": [
    {
     "data": {
      "text/plain": [
       "Index(['SEVERITYCODE', 'X', 'Y', 'OBJECTID', 'INCKEY', 'COLDETKEY', 'REPORTNO',\n",
       "       'STATUS', 'ADDRTYPE', 'INTKEY', 'LOCATION', 'EXCEPTRSNCODE',\n",
       "       'EXCEPTRSNDESC', 'SEVERITYCODE.1', 'SEVERITYDESC', 'COLLISIONTYPE',\n",
       "       'PERSONCOUNT', 'PEDCOUNT', 'PEDCYLCOUNT', 'VEHCOUNT', 'INCDATE',\n",
       "       'INCDTTM', 'JUNCTIONTYPE', 'SDOT_COLCODE', 'SDOT_COLDESC',\n",
       "       'INATTENTIONIND', 'UNDERINFL', 'WEATHER', 'ROADCOND', 'LIGHTCOND',\n",
       "       'PEDROWNOTGRNT', 'SDOTCOLNUM', 'SPEEDING', 'ST_COLCODE', 'ST_COLDESC',\n",
       "       'SEGLANEKEY', 'CROSSWALKKEY', 'HITPARKEDCAR'],\n",
       "      dtype='object')"
      ]
     },
     "execution_count": 2,
     "metadata": {},
     "output_type": "execute_result"
    }
   ],
   "source": [
    "df = pd.read_csv(\"../Data-Collisions.csv\", low_memory=False)\n",
    "df.head()"
   ]
  },
  {
   "cell_type": "markdown",
   "metadata": {},
   "source": [
    "<h2> Choosing relevant variables for analysis </h2>\n",
    "From the complete dataset, we will choose only the relevant variables which might have an impact in the model training."
   ]
  },
  {
   "cell_type": "code",
   "execution_count": 4,
   "metadata": {},
   "outputs": [],
   "source": [
    "colData = df[['SEVERITYCODE', 'X', 'Y', 'ADDRTYPE', 'COLLISIONTYPE',\n",
    "               'PERSONCOUNT', 'VEHCOUNT', 'JUNCTIONTYPE',  'WEATHER', 'ROADCOND', 'LIGHTCOND', \n",
    "               'SPEEDING', 'UNDERINFL', 'INATTENTIONIND']]\n",
    "#Location, Road Condition, Weather Condition, Junction Type, Car Speeding, Number of People Involved, Light Conditions, Number of Vehicles involved"
   ]
  },
  {
   "cell_type": "code",
   "execution_count": 5,
   "metadata": {},
   "outputs": [
    {
     "data": {
      "text/html": [
       "<div>\n",
       "<style scoped>\n",
       "    .dataframe tbody tr th:only-of-type {\n",
       "        vertical-align: middle;\n",
       "    }\n",
       "\n",
       "    .dataframe tbody tr th {\n",
       "        vertical-align: top;\n",
       "    }\n",
       "\n",
       "    .dataframe thead th {\n",
       "        text-align: right;\n",
       "    }\n",
       "</style>\n",
       "<table border=\"1\" class=\"dataframe\">\n",
       "  <thead>\n",
       "    <tr style=\"text-align: right;\">\n",
       "      <th></th>\n",
       "      <th>SEVERITYCODE</th>\n",
       "      <th>X</th>\n",
       "      <th>Y</th>\n",
       "      <th>ADDRTYPE</th>\n",
       "      <th>COLLISIONTYPE</th>\n",
       "      <th>PERSONCOUNT</th>\n",
       "      <th>VEHCOUNT</th>\n",
       "      <th>JUNCTIONTYPE</th>\n",
       "      <th>WEATHER</th>\n",
       "      <th>ROADCOND</th>\n",
       "      <th>LIGHTCOND</th>\n",
       "      <th>SPEEDING</th>\n",
       "      <th>UNDERINFL</th>\n",
       "      <th>INATTENTIONIND</th>\n",
       "    </tr>\n",
       "  </thead>\n",
       "  <tbody>\n",
       "    <tr>\n",
       "      <th>0</th>\n",
       "      <td>2</td>\n",
       "      <td>-122.323148</td>\n",
       "      <td>47.703140</td>\n",
       "      <td>Intersection</td>\n",
       "      <td>Angles</td>\n",
       "      <td>2</td>\n",
       "      <td>2</td>\n",
       "      <td>At Intersection (intersection related)</td>\n",
       "      <td>Overcast</td>\n",
       "      <td>Wet</td>\n",
       "      <td>Daylight</td>\n",
       "      <td>NaN</td>\n",
       "      <td>N</td>\n",
       "      <td>NaN</td>\n",
       "    </tr>\n",
       "    <tr>\n",
       "      <th>1</th>\n",
       "      <td>1</td>\n",
       "      <td>-122.347294</td>\n",
       "      <td>47.647172</td>\n",
       "      <td>Block</td>\n",
       "      <td>Sideswipe</td>\n",
       "      <td>2</td>\n",
       "      <td>2</td>\n",
       "      <td>Mid-Block (not related to intersection)</td>\n",
       "      <td>Raining</td>\n",
       "      <td>Wet</td>\n",
       "      <td>Dark - Street Lights On</td>\n",
       "      <td>NaN</td>\n",
       "      <td>0</td>\n",
       "      <td>NaN</td>\n",
       "    </tr>\n",
       "    <tr>\n",
       "      <th>2</th>\n",
       "      <td>1</td>\n",
       "      <td>-122.334540</td>\n",
       "      <td>47.607871</td>\n",
       "      <td>Block</td>\n",
       "      <td>Parked Car</td>\n",
       "      <td>4</td>\n",
       "      <td>3</td>\n",
       "      <td>Mid-Block (not related to intersection)</td>\n",
       "      <td>Overcast</td>\n",
       "      <td>Dry</td>\n",
       "      <td>Daylight</td>\n",
       "      <td>NaN</td>\n",
       "      <td>0</td>\n",
       "      <td>NaN</td>\n",
       "    </tr>\n",
       "    <tr>\n",
       "      <th>3</th>\n",
       "      <td>1</td>\n",
       "      <td>-122.334803</td>\n",
       "      <td>47.604803</td>\n",
       "      <td>Block</td>\n",
       "      <td>Other</td>\n",
       "      <td>3</td>\n",
       "      <td>3</td>\n",
       "      <td>Mid-Block (not related to intersection)</td>\n",
       "      <td>Clear</td>\n",
       "      <td>Dry</td>\n",
       "      <td>Daylight</td>\n",
       "      <td>NaN</td>\n",
       "      <td>N</td>\n",
       "      <td>NaN</td>\n",
       "    </tr>\n",
       "    <tr>\n",
       "      <th>4</th>\n",
       "      <td>2</td>\n",
       "      <td>-122.306426</td>\n",
       "      <td>47.545739</td>\n",
       "      <td>Intersection</td>\n",
       "      <td>Angles</td>\n",
       "      <td>2</td>\n",
       "      <td>2</td>\n",
       "      <td>At Intersection (intersection related)</td>\n",
       "      <td>Raining</td>\n",
       "      <td>Wet</td>\n",
       "      <td>Daylight</td>\n",
       "      <td>NaN</td>\n",
       "      <td>0</td>\n",
       "      <td>NaN</td>\n",
       "    </tr>\n",
       "  </tbody>\n",
       "</table>\n",
       "</div>"
      ],
      "text/plain": [
       "   SEVERITYCODE           X          Y      ADDRTYPE COLLISIONTYPE  \\\n",
       "0             2 -122.323148  47.703140  Intersection        Angles   \n",
       "1             1 -122.347294  47.647172         Block     Sideswipe   \n",
       "2             1 -122.334540  47.607871         Block    Parked Car   \n",
       "3             1 -122.334803  47.604803         Block         Other   \n",
       "4             2 -122.306426  47.545739  Intersection        Angles   \n",
       "\n",
       "   PERSONCOUNT  VEHCOUNT                             JUNCTIONTYPE   WEATHER  \\\n",
       "0            2         2   At Intersection (intersection related)  Overcast   \n",
       "1            2         2  Mid-Block (not related to intersection)   Raining   \n",
       "2            4         3  Mid-Block (not related to intersection)  Overcast   \n",
       "3            3         3  Mid-Block (not related to intersection)     Clear   \n",
       "4            2         2   At Intersection (intersection related)   Raining   \n",
       "\n",
       "  ROADCOND                LIGHTCOND SPEEDING UNDERINFL INATTENTIONIND  \n",
       "0      Wet                 Daylight      NaN         N            NaN  \n",
       "1      Wet  Dark - Street Lights On      NaN         0            NaN  \n",
       "2      Dry                 Daylight      NaN         0            NaN  \n",
       "3      Dry                 Daylight      NaN         N            NaN  \n",
       "4      Wet                 Daylight      NaN         0            NaN  "
      ]
     },
     "execution_count": 5,
     "metadata": {},
     "output_type": "execute_result"
    }
   ],
   "source": [
    "colData.head()"
   ]
  },
  {
   "cell_type": "markdown",
   "metadata": {},
   "source": [
    "Now let's explore the data and get the frequency of each category for a given feature."
   ]
  },
  {
   "cell_type": "code",
   "execution_count": 6,
   "metadata": {},
   "outputs": [
    {
     "name": "stdout",
     "output_type": "stream",
     "text": [
      "SEVERITYCODE\n",
      "1    136485\n",
      "2     58188\n",
      "Name: SEVERITYCODE, dtype: int64\n",
      "\n",
      "ADDRTYPE\n",
      "Block           126926\n",
      "Intersection     65070\n",
      "Alley              751\n",
      "Name: ADDRTYPE, dtype: int64\n",
      "\n",
      "COLLISIONTYPE\n",
      "Parked Car    47987\n",
      "Angles        34674\n",
      "Rear Ended    34090\n",
      "Other         23703\n",
      "Sideswipe     18609\n",
      "Left Turn     13703\n",
      "Pedestrian     6608\n",
      "Cycles         5415\n",
      "Right Turn     2956\n",
      "Head On        2024\n",
      "Name: COLLISIONTYPE, dtype: int64\n",
      "\n",
      "JUNCTIONTYPE\n",
      "Mid-Block (not related to intersection)              89800\n",
      "At Intersection (intersection related)               62810\n",
      "Mid-Block (but intersection related)                 22790\n",
      "Driveway Junction                                    10671\n",
      "At Intersection (but not related to intersection)     2098\n",
      "Ramp Junction                                          166\n",
      "Unknown                                                  9\n",
      "Name: JUNCTIONTYPE, dtype: int64\n",
      "\n",
      "WEATHER\n",
      "Clear                       111135\n",
      "Raining                      33145\n",
      "Overcast                     27714\n",
      "Unknown                      15091\n",
      "Snowing                        907\n",
      "Other                          832\n",
      "Fog/Smog/Smoke                 569\n",
      "Sleet/Hail/Freezing Rain       113\n",
      "Blowing Sand/Dirt               56\n",
      "Severe Crosswind                25\n",
      "Partly Cloudy                    5\n",
      "Name: WEATHER, dtype: int64\n",
      "\n",
      "ROADCOND\n",
      "Dry               124510\n",
      "Wet                47474\n",
      "Unknown            15078\n",
      "Ice                 1209\n",
      "Snow/Slush          1004\n",
      "Other                132\n",
      "Standing Water       115\n",
      "Sand/Mud/Dirt         75\n",
      "Oil                   64\n",
      "Name: ROADCOND, dtype: int64\n",
      "\n",
      "LIGHTCOND\n",
      "Daylight                    116137\n",
      "Dark - Street Lights On      48507\n",
      "Unknown                      13473\n",
      "Dusk                          5902\n",
      "Dawn                          2502\n",
      "Dark - No Street Lights       1537\n",
      "Dark - Street Lights Off      1199\n",
      "Other                          235\n",
      "Dark - Unknown Lighting         11\n",
      "Name: LIGHTCOND, dtype: int64\n",
      "\n",
      "SPEEDING\n",
      "Y    9333\n",
      "Name: SPEEDING, dtype: int64\n",
      "\n",
      "UNDERINFL\n",
      "N    100274\n",
      "0     80394\n",
      "Y      5126\n",
      "1      3995\n",
      "Name: UNDERINFL, dtype: int64\n",
      "\n",
      "INATTENTIONIND\n",
      "Y    29805\n",
      "Name: INATTENTIONIND, dtype: int64\n",
      "\n"
     ]
    }
   ],
   "source": [
    "def list_count(columns, df):\n",
    "    for col in columns:\n",
    "        print(col)\n",
    "        print(df[col].value_counts())\n",
    "        print()\n",
    "\n",
    "data_columns = ['SEVERITYCODE','ADDRTYPE', 'COLLISIONTYPE', 'JUNCTIONTYPE', 'WEATHER', \n",
    " 'ROADCOND','LIGHTCOND', 'SPEEDING', 'UNDERINFL', 'INATTENTIONIND']\n",
    "\n",
    "#Use value_counts() method in each column\n",
    "list_count(data_columns, colData)"
   ]
  },
  {
   "cell_type": "markdown",
   "metadata": {},
   "source": [
    "<h2> Cleaning the Dataset </h2>\n",
    "Some of the categories are not relevant or doesn't provide enough information, such as 'Unknown' or 'Other'. We should drop this kind of entries."
   ]
  },
  {
   "cell_type": "code",
   "execution_count": 8,
   "metadata": {},
   "outputs": [],
   "source": [
    "filterCond = (colData.LIGHTCOND == 'Other') | (colData.LIGHTCOND == 'Unknown') | \\\n",
    "                      (colData.LIGHTCOND == 'Dark - Unknown Lighting') |\\\n",
    "                      (colData.ROADCOND == 'Other') | (colData.ROADCOND == 'Unknown') | \\\n",
    "                      (colData.WEATHER == 'Other') | (colData.WEATHER == 'Unknown') | \\\n",
    "                      (colData.JUNCTIONTYPE == 'Other') | (colData.JUNCTIONTYPE == 'Unknown') | \\\n",
    "                      (colData.COLLISIONTYPE == 'Other')\n",
    "colData = colData.drop(colData[filterCond].index)"
   ]
  },
  {
   "cell_type": "markdown",
   "metadata": {},
   "source": [
    "Group information to uniform categories."
   ]
  },
  {
   "cell_type": "code",
   "execution_count": 9,
   "metadata": {},
   "outputs": [],
   "source": [
    "colData[\"LIGHTCOND\"] = colData[\"LIGHTCOND\"].replace(\"Dark - Street Lights Off\", \"Dark - No Street Lights\")\n",
    "colData[\"UNDERINFL\"] = colData[\"UNDERINFL\"].replace(\"N\", 0)\n",
    "colData[\"UNDERINFL\"] = colData[\"UNDERINFL\"].replace(\"0\", 0)\n",
    "colData[\"UNDERINFL\"] = colData[\"UNDERINFL\"].replace(\"1\", 1)\n",
    "colData[\"UNDERINFL\"] = colData[\"UNDERINFL\"].replace(\"Y\", 1)\n",
    "colData[\"INATTENTIONIND\"] = colData[\"INATTENTIONIND\"].replace(\"Y\", 1)\n",
    "colData[\"SPEEDING\"] = colData[\"SPEEDING\"].replace(\"Y\", 1)"
   ]
  },
  {
   "cell_type": "markdown",
   "metadata": {},
   "source": [
    "<h2> Filling missing data </h2>\n",
    "We assume that if the report does not <b>explicitly</b> indicates an accident which involved driving under a alcohol/substance, then the opposite is true. We will treat the following columns as true only if the field is <b>filled</b>."
   ]
  },
  {
   "cell_type": "code",
   "execution_count": 10,
   "metadata": {},
   "outputs": [
    {
     "data": {
      "text/plain": [
       "SEVERITYCODE         0\n",
       "X                 2609\n",
       "Y                 2609\n",
       "ADDRTYPE           686\n",
       "COLLISIONTYPE     4898\n",
       "PERSONCOUNT          0\n",
       "VEHCOUNT             0\n",
       "JUNCTIONTYPE      2143\n",
       "WEATHER           5009\n",
       "ROADCOND          4977\n",
       "LIGHTCOND         5081\n",
       "SPEEDING             0\n",
       "UNDERINFL            0\n",
       "INATTENTIONIND       0\n",
       "dtype: int64"
      ]
     },
     "execution_count": 10,
     "metadata": {},
     "output_type": "execute_result"
    }
   ],
   "source": [
    "colData['UNDERINFL'] = colData['UNDERINFL'].fillna(0)\n",
    "colData['INATTENTIONIND'] = colData['INATTENTIONIND'].fillna(0)\n",
    "colData['SPEEDING'] = colData['SPEEDING'].fillna(0)\n",
    "\n",
    "# Check the columns which has NaN values\n",
    "colData.isna().sum()"
   ]
  },
  {
   "cell_type": "markdown",
   "metadata": {},
   "source": [
    "<h2> Dropping partial entries </h2>\n",
    "Not all the entries or observables are complete, some of them miss relevant information which is needed to train the model."
   ]
  },
  {
   "cell_type": "code",
   "execution_count": 11,
   "metadata": {},
   "outputs": [],
   "source": [
    "colData.dropna(inplace=True)"
   ]
  },
  {
   "cell_type": "code",
   "execution_count": 12,
   "metadata": {},
   "outputs": [
    {
     "name": "stdout",
     "output_type": "stream",
     "text": [
      "<class 'pandas.core.frame.DataFrame'>\n",
      "Int64Index: 143741 entries, 0 to 194672\n",
      "Data columns (total 14 columns):\n",
      " #   Column          Non-Null Count   Dtype  \n",
      "---  ------          --------------   -----  \n",
      " 0   SEVERITYCODE    143741 non-null  int64  \n",
      " 1   X               143741 non-null  float64\n",
      " 2   Y               143741 non-null  float64\n",
      " 3   ADDRTYPE        143741 non-null  object \n",
      " 4   COLLISIONTYPE   143741 non-null  object \n",
      " 5   PERSONCOUNT     143741 non-null  int64  \n",
      " 6   VEHCOUNT        143741 non-null  int64  \n",
      " 7   JUNCTIONTYPE    143741 non-null  object \n",
      " 8   WEATHER         143741 non-null  object \n",
      " 9   ROADCOND        143741 non-null  object \n",
      " 10  LIGHTCOND       143741 non-null  object \n",
      " 11  SPEEDING        143741 non-null  float64\n",
      " 12  UNDERINFL       143741 non-null  float64\n",
      " 13  INATTENTIONIND  143741 non-null  float64\n",
      "dtypes: float64(5), int64(3), object(6)\n",
      "memory usage: 16.4+ MB\n"
     ]
    }
   ],
   "source": [
    "colData.info()"
   ]
  },
  {
   "cell_type": "markdown",
   "metadata": {},
   "source": [
    "Now that the data is cleaned."
   ]
  },
  {
   "cell_type": "markdown",
   "metadata": {},
   "source": [
    "<h2> Balancing Data </h2>\n",
    "The not <i>severe collitions</i>, are most frequent than the <i>severe ones</i>. Data is unbalanced, so we will proceed to under sample it."
   ]
  },
  {
   "cell_type": "code",
   "execution_count": 7,
   "metadata": {},
   "outputs": [
    {
     "data": {
      "image/png": "[encoded data removed]",
      "text/plain": [
       "<Figure size 432x288 with 1 Axes>"
      ]
     },
     "metadata": {
      "needs_background": "light"
     },
     "output_type": "display_data"
    }
   ],
   "source": [
    "import seaborn as sns\n",
    "import matplotlib.pyplot as plt\n",
    "\n",
    "sns.countplot(x=\"SEVERITYCODE\", data=colData)\n",
    "plt.savefig('fig/severity_count.png',dpi=300, bbox_inches = \"tight\")"
   ]
  },
  {
   "cell_type": "code",
   "execution_count": 14,
   "metadata": {},
   "outputs": [
    {
     "name": "stdout",
     "output_type": "stream",
     "text": [
      "Not severe collitions:  48923\n",
      "    Severe collitions:  48923\n"
     ]
    },
    {
     "data": {
      "image/png": "[encoded data removed]",
      "text/plain": [
       "<Figure size 432x288 with 1 Axes>"
      ]
     },
     "metadata": {
      "needs_background": "light"
     },
     "output_type": "display_data"
    }
   ],
   "source": [
    "from imblearn.under_sampling import RandomUnderSampler\n",
    "\n",
    "X = colData[['X', 'Y', 'ADDRTYPE', 'COLLISIONTYPE', 'PERSONCOUNT',\n",
    "       'VEHCOUNT', 'JUNCTIONTYPE', 'WEATHER', 'ROADCOND', 'LIGHTCOND',\n",
    "       'SPEEDING', 'UNDERINFL', 'INATTENTIONIND']]\n",
    "y = colData[['SEVERITYCODE']]\n",
    "\n",
    "rus = RandomUnderSampler(random_state=0)\n",
    "X_resampled, y_resampled = rus.fit_resample(X, y)\n",
    "colData = X_resampled\n",
    "colData['severity'] = y_resampled\n",
    "\n",
    "severeCols = colData[colData.severity == 2]\n",
    "notSevereCols = colData[colData.severity == 1]\n",
    "\n",
    "print(\"Not severe collitions: \", len(severeCols))\n",
    "print(\"    Severe collitions: \", len(notSevereCols))\n",
    "\n",
    "sns.countplot(x=\"severity\", data=colData)\n",
    "plt.savefig('fig/severity_count_after.png',dpi=300, bbox_inches = \"tight\")"
   ]
  },
  {
   "cell_type": "markdown",
   "metadata": {},
   "source": [
    "<h2> Analyzing variables </h2>\n",
    "Now that the data is balanced, we can take a visual look to the variables to see if they are relevant to the model training."
   ]
  },
  {
   "cell_type": "code",
   "execution_count": 15,
   "metadata": {},
   "outputs": [
    {
     "data": {
      "text/plain": [
       "<AxesSubplot:xlabel='count', ylabel='INATTENTIONIND'>"
      ]
     },
     "execution_count": 15,
     "metadata": {},
     "output_type": "execute_result"
    },
    {
     "data": {
      "image/png": "[encoded data removed]",
      "text/plain": [
       "<Figure size 1728x864 with 9 Axes>"
      ]
     },
     "metadata": {
      "needs_background": "light"
     },
     "output_type": "display_data"
    }
   ],
   "source": [
    "fig, axs = plt.subplots(ncols=3, nrows=3, figsize=(24,12))\n",
    "plt.subplots_adjust(hspace = 0.8, wspace=0.8)\n",
    "sns.countplot(y=\"ADDRTYPE\", hue=\"severity\", data=colData, ax=axs[0, 0])\n",
    "sns.countplot(y=\"COLLISIONTYPE\", hue=\"severity\", data=colData, ax=axs[1, 0])\n",
    "sns.countplot(y=\"JUNCTIONTYPE\", hue=\"severity\", data=colData, ax=axs[2, 0])\n",
    "sns.countplot(y=\"WEATHER\", hue=\"severity\", data=colData, ax=axs[0, 1])\n",
    "sns.countplot(y=\"ROADCOND\", hue=\"severity\", data=colData, ax=axs[1, 1])\n",
    "sns.countplot(y=\"LIGHTCOND\", hue=\"severity\", data=colData, ax=axs[2, 1])\n",
    "sns.countplot(y=\"SPEEDING\", hue=\"severity\", data=colData, ax=axs[0, 2])\n",
    "sns.countplot(y=\"UNDERINFL\", hue=\"severity\", data=colData, ax=axs[1, 2])\n",
    "sns.countplot(y=\"INATTENTIONIND\", hue=\"severity\", data=colData, ax=axs[2, 2])"
   ]
  },
  {
   "cell_type": "code",
   "execution_count": 16,
   "metadata": {},
   "outputs": [
    {
     "name": "stderr",
     "output_type": "stream",
     "text": [
      "/home/augusto/.local/lib/python3.8/site-packages/sklearn/utils/validation.py:72: DataConversionWarning: A column-vector y was passed when a 1d array was expected. Please change the shape of y to (n_samples, ), for example using ravel().\n",
      "  return f(**kwargs)\n"
     ]
    },
    {
     "name": "stdout",
     "output_type": "stream",
     "text": [
      "Feature ADDRTYPE: 0.019765\n",
      "Feature COLLISIONTYPE: 0.125225\n",
      "Feature JUNCTIONTYPE: 0.028484\n",
      "Feature WEATHER: 0.001333\n",
      "Feature ROADCOND: 0.005442\n",
      "Feature LIGHTCOND: 0.005562\n",
      "Feature SPEEDING: 0.000000\n",
      "Feature UNDERINFL: 0.002487\n",
      "Feature INATTENTIONIND: 0.000829\n"
     ]
    },
    {
     "data": {
      "text/plain": [
       "<AxesSubplot:>"
      ]
     },
     "execution_count": 16,
     "metadata": {},
     "output_type": "execute_result"
    },
    {
     "data": {
      "image/png": "[encoded data removed]",
      "text/plain": [
       "<Figure size 432x288 with 1 Axes>"
      ]
     },
     "metadata": {
      "needs_background": "light"
     },
     "output_type": "display_data"
    }
   ],
   "source": [
    "# example of mutual information feature selection for categorical data\n",
    "from sklearn.model_selection import train_test_split\n",
    "from sklearn.preprocessing import LabelEncoder\n",
    "from sklearn.preprocessing import OrdinalEncoder\n",
    "from sklearn.feature_selection import SelectKBest\n",
    "from sklearn.feature_selection import mutual_info_classif\n",
    "\n",
    "# prepare input data\n",
    "def prepare_inputs(X_train, X_test):\n",
    "    oe = OrdinalEncoder()\n",
    "    oe.fit(X_train)\n",
    "    X_train_enc = oe.transform(X_train)\n",
    "    X_test_enc = oe.transform(X_test)\n",
    "    return X_train_enc, X_test_enc\n",
    " \n",
    "# prepare target\n",
    "def prepare_targets(y_train, y_test):\n",
    "    le = LabelEncoder()\n",
    "    le.fit(y_train)\n",
    "    y_train_enc = le.transform(y_train)\n",
    "    y_test_enc = le.transform(y_test)\n",
    "    return y_train_enc, y_test_enc\n",
    " \n",
    "# feature selection\n",
    "def select_features(X_train, y_train, X_test):\n",
    "    fs = SelectKBest(score_func=mutual_info_classif, k='all')\n",
    "    fs.fit(X_train, y_train)\n",
    "    X_train_fs = fs.transform(X_train)\n",
    "    X_test_fs = fs.transform(X_test)\n",
    "    return X_train_fs, X_test_fs, fs\n",
    "\n",
    "def calc_entropy(X, y, n):\n",
    "    scores = []\n",
    "    result = np.zeros(len(X.columns))\n",
    "    \n",
    "    for i in range(n):\n",
    "        # split into train and test sets\n",
    "        X_train, X_test, y_train, y_test = train_test_split(X, y, test_size=0.33, random_state=1)\n",
    "        # prepare input data\n",
    "        X_train_enc, X_test_enc = prepare_inputs(X_train, X_test)\n",
    "        # prepare output data\n",
    "        y_train_enc, y_test_enc = prepare_targets(y_train, y_test)\n",
    "        # feature selection\n",
    "        X_train_fs, X_test_fs, fs = select_features(X_train_enc, y_train_enc, X_test_enc)\n",
    "        # what are scores for the features\n",
    "        result = fs.scores_ + result\n",
    "        \n",
    "    return result / n\n",
    "\n",
    "X = X_resampled\n",
    "X = X.drop(columns=['X','Y', 'PERSONCOUNT', 'VEHCOUNT', 'severity'])\n",
    "X = X.astype(str)\n",
    "y = y_resampled\n",
    "\n",
    "iterations = 1\n",
    "\n",
    "result = calc_entropy(X, y, iterations)\n",
    "\n",
    "for i in range(len(result)):\n",
    "    print('Feature %s: %f' % (X.columns[i], result[i]))\n",
    "# Plot the scores\n",
    "\n",
    "sns.barplot(y=X.columns, x=result)\n",
    "#plt.savefig('fig/feature_extraction.png',dpi=300, bbox_inches = \"tight\")"
   ]
  },
  {
   "cell_type": "markdown",
   "metadata": {},
   "source": [
    "Finally, let's take a look at the variables we drop before the mutual information analysis."
   ]
  },
  {
   "cell_type": "code",
   "execution_count": 17,
   "metadata": {},
   "outputs": [
    {
     "data": {
      "text/plain": [
       "<AxesSubplot:xlabel='PERSONCOUNT', ylabel='count'>"
      ]
     },
     "execution_count": 17,
     "metadata": {},
     "output_type": "execute_result"
    },
    {
     "data": {
      "image/png": "[encoded data removed]",
      "text/plain": [
       "<Figure size 1080x432 with 2 Axes>"
      ]
     },
     "metadata": {
      "needs_background": "light"
     },
     "output_type": "display_data"
    }
   ],
   "source": [
    "fig, axs = plt.subplots(ncols=2, figsize=(15,6))\n",
    "sns.countplot(x=\"VEHCOUNT\", hue=\"severity\", data=colData, ax=axs[0])\n",
    "sns.countplot(x=\"PERSONCOUNT\", hue=\"severity\", data=colData, ax=axs[1])"
   ]
  },
  {
   "cell_type": "markdown",
   "metadata": {},
   "source": [
    "Script lines to save plots as png files."
   ]
  },
  {
   "cell_type": "code",
   "execution_count": 19,
   "metadata": {},
   "outputs": [
    {
     "data": {
      "text/plain": [
       "<AxesSubplot:xlabel='count', ylabel='COLLISIONTYPE'>"
      ]
     },
     "execution_count": 19,
     "metadata": {},
     "output_type": "execute_result"
    },
    {
     "data": {
      "image/png": "[encoded data removed]",
      "text/plain": [
       "<Figure size 432x288 with 1 Axes>"
      ]
     },
     "metadata": {
      "needs_background": "light"
     },
     "output_type": "display_data"
    }
   ],
   "source": [
    "sns.countplot(y=\"COLLISIONTYPE\", hue=\"severity\", data=colData)\n",
    "#plt.savefig('fig/collisions.png',dpi=300, bbox_inches = \"tight\")\n",
    "sns.countplot(y=\"JUNCTIONTYPE\", hue=\"severity\", data=colData)\n",
    "#plt.savefig('fig/junction.png',dpi=300, bbox_inches = \"tight\")\n",
    "fig, axs = plt.subplots(ncols=2, figsize=(18,6))\n",
    "plt.subplots_adjust(wspace=0.3)\n",
    "sns.countplot(x=\"VEHCOUNT\", hue=\"severity\", data=colData, ax=axs[0])\n",
    "sns.countplot(x=\"PERSONCOUNT\", hue=\"severity\", data=colData, ax=axs[1])\n",
    "fig.get_axes()[1].legend(loc='upper right', title='severity') \n",
    "#fig.savefig('fig/veh_person_count.png',dpi=300, bbox_inches = \"tight\")"
   ]
  },
  {
   "cell_type": "markdown",
   "metadata": {},
   "source": [
    "# Geolocation Analysis\n",
    "In order to locate the frequency of the collisions in a given zone, let's take a look using folium clusters."
   ]
  },
  {
   "cell_type": "code",
   "execution_count": 18,
   "metadata": {},
   "outputs": [
    {
     "data": {
      "text/plain": [
       "'\\nimport folium\\nfrom folium import plugins\\n\\nlatitude = colData.Y.mean()\\nlongitude = colData.X.mean()\\n\\n# create map and display it\\nseattle_map = folium.Map(location=[latitude, longitude], zoom_start=12)\\n\\n# instantiate a mark cluster object for the incidents in the dataframe\\ncollisions = plugins.MarkerCluster().add_to(seattle_map)\\n\\n# loop through the dataframe and add each data point to the mark cluster\\nfor lat, lng, label, in zip(colData.Y, colData.X, colData.severity):\\n    folium.Marker(\\n        location=[lat, lng],\\n        icon=None,\\n        popup=label,\\n    ).add_to(collisions)\\n\\n# display map\\nseattle_map\\n'"
      ]
     },
     "execution_count": 18,
     "metadata": {},
     "output_type": "execute_result"
    }
   ],
   "source": [
    "\"\"\"\n",
    "import folium\n",
    "from folium import plugins\n",
    "\n",
    "latitude = colData.Y.mean()\n",
    "longitude = colData.X.mean()\n",
    "\n",
    "# create map and display it\n",
    "seattle_map = folium.Map(location=[latitude, longitude], zoom_start=12)\n",
    "\n",
    "# instantiate a mark cluster object for the incidents in the dataframe\n",
    "collisions = plugins.MarkerCluster().add_to(seattle_map)\n",
    "\n",
    "# loop through the dataframe and add each data point to the mark cluster\n",
    "for lat, lng, label, in zip(colData.Y, colData.X, colData.severity):\n",
    "    folium.Marker(\n",
    "        location=[lat, lng],\n",
    "        icon=None,\n",
    "        popup=label,\n",
    "    ).add_to(collisions)\n",
    "\n",
    "# display map\n",
    "seattle_map\n",
    "\"\"\""
   ]
  },
  {
   "cell_type": "markdown",
   "metadata": {},
   "source": [
    "# Structuring data to train the model\n",
    "\n",
    "We need to perform some actions before training the model:\n",
    "    - Rename severity to 0,1\n",
    "    - Select relevant feature set\n",
    "    - Convert them to one hot enconding\n",
    "    - Normalize and split data\n",
    "    \n",
    "Let's get started"
   ]
  },
  {
   "cell_type": "code",
   "execution_count": 23,
   "metadata": {},
   "outputs": [
    {
     "data": {
      "text/plain": [
       "<AxesSubplot:xlabel='severity', ylabel='count'>"
      ]
     },
     "execution_count": 23,
     "metadata": {},
     "output_type": "execute_result"
    },
    {
     "data": {
      "image/png": "[encoded data removed]",
      "text/plain": [
       "<Figure size 432x288 with 1 Axes>"
      ]
     },
     "metadata": {
      "needs_background": "light"
     },
     "output_type": "display_data"
    }
   ],
   "source": [
    "# Rename severity to 0,1\n",
    "colData[\"severity\"] = colData[\"severity\"].replace(1, 0)\n",
    "colData[\"severity\"] = colData[\"severity\"].replace(2, 1)\n",
    "sns.countplot(x=\"severity\", data=colData)"
   ]
  },
  {
   "cell_type": "code",
   "execution_count": 30,
   "metadata": {},
   "outputs": [
    {
     "data": {
      "text/html": [
       "<div>\n",
       "<style scoped>\n",
       "    .dataframe tbody tr th:only-of-type {\n",
       "        vertical-align: middle;\n",
       "    }\n",
       "\n",
       "    .dataframe tbody tr th {\n",
       "        vertical-align: top;\n",
       "    }\n",
       "\n",
       "    .dataframe thead th {\n",
       "        text-align: right;\n",
       "    }\n",
       "</style>\n",
       "<table border=\"1\" class=\"dataframe\">\n",
       "  <thead>\n",
       "    <tr style=\"text-align: right;\">\n",
       "      <th></th>\n",
       "      <th>Blowing Sand/Dirt</th>\n",
       "      <th>Clear</th>\n",
       "      <th>Fog/Smog/Smoke</th>\n",
       "      <th>Overcast</th>\n",
       "      <th>Partly Cloudy</th>\n",
       "      <th>Raining</th>\n",
       "      <th>Severe Crosswind</th>\n",
       "      <th>Sleet/Hail/Freezing Rain</th>\n",
       "      <th>Snowing</th>\n",
       "      <th>Dry</th>\n",
       "      <th>...</th>\n",
       "      <th>Oil</th>\n",
       "      <th>Sand/Mud/Dirt</th>\n",
       "      <th>Snow/Slush</th>\n",
       "      <th>Standing Water</th>\n",
       "      <th>Wet</th>\n",
       "      <th>Dark - No Street Lights</th>\n",
       "      <th>Dark - Street Lights On</th>\n",
       "      <th>Dawn</th>\n",
       "      <th>Daylight</th>\n",
       "      <th>Dusk</th>\n",
       "    </tr>\n",
       "  </thead>\n",
       "  <tbody>\n",
       "    <tr>\n",
       "      <th>0</th>\n",
       "      <td>0</td>\n",
       "      <td>1</td>\n",
       "      <td>0</td>\n",
       "      <td>0</td>\n",
       "      <td>0</td>\n",
       "      <td>0</td>\n",
       "      <td>0</td>\n",
       "      <td>0</td>\n",
       "      <td>0</td>\n",
       "      <td>1</td>\n",
       "      <td>...</td>\n",
       "      <td>0</td>\n",
       "      <td>0</td>\n",
       "      <td>0</td>\n",
       "      <td>0</td>\n",
       "      <td>0</td>\n",
       "      <td>0</td>\n",
       "      <td>1</td>\n",
       "      <td>0</td>\n",
       "      <td>0</td>\n",
       "      <td>0</td>\n",
       "    </tr>\n",
       "    <tr>\n",
       "      <th>1</th>\n",
       "      <td>0</td>\n",
       "      <td>1</td>\n",
       "      <td>0</td>\n",
       "      <td>0</td>\n",
       "      <td>0</td>\n",
       "      <td>0</td>\n",
       "      <td>0</td>\n",
       "      <td>0</td>\n",
       "      <td>0</td>\n",
       "      <td>1</td>\n",
       "      <td>...</td>\n",
       "      <td>0</td>\n",
       "      <td>0</td>\n",
       "      <td>0</td>\n",
       "      <td>0</td>\n",
       "      <td>0</td>\n",
       "      <td>0</td>\n",
       "      <td>0</td>\n",
       "      <td>0</td>\n",
       "      <td>1</td>\n",
       "      <td>0</td>\n",
       "    </tr>\n",
       "    <tr>\n",
       "      <th>2</th>\n",
       "      <td>0</td>\n",
       "      <td>0</td>\n",
       "      <td>0</td>\n",
       "      <td>0</td>\n",
       "      <td>0</td>\n",
       "      <td>1</td>\n",
       "      <td>0</td>\n",
       "      <td>0</td>\n",
       "      <td>0</td>\n",
       "      <td>0</td>\n",
       "      <td>...</td>\n",
       "      <td>0</td>\n",
       "      <td>0</td>\n",
       "      <td>0</td>\n",
       "      <td>0</td>\n",
       "      <td>1</td>\n",
       "      <td>0</td>\n",
       "      <td>1</td>\n",
       "      <td>0</td>\n",
       "      <td>0</td>\n",
       "      <td>0</td>\n",
       "    </tr>\n",
       "    <tr>\n",
       "      <th>3</th>\n",
       "      <td>0</td>\n",
       "      <td>0</td>\n",
       "      <td>0</td>\n",
       "      <td>1</td>\n",
       "      <td>0</td>\n",
       "      <td>0</td>\n",
       "      <td>0</td>\n",
       "      <td>0</td>\n",
       "      <td>0</td>\n",
       "      <td>1</td>\n",
       "      <td>...</td>\n",
       "      <td>0</td>\n",
       "      <td>0</td>\n",
       "      <td>0</td>\n",
       "      <td>0</td>\n",
       "      <td>0</td>\n",
       "      <td>0</td>\n",
       "      <td>0</td>\n",
       "      <td>0</td>\n",
       "      <td>1</td>\n",
       "      <td>0</td>\n",
       "    </tr>\n",
       "    <tr>\n",
       "      <th>4</th>\n",
       "      <td>0</td>\n",
       "      <td>1</td>\n",
       "      <td>0</td>\n",
       "      <td>0</td>\n",
       "      <td>0</td>\n",
       "      <td>0</td>\n",
       "      <td>0</td>\n",
       "      <td>0</td>\n",
       "      <td>0</td>\n",
       "      <td>1</td>\n",
       "      <td>...</td>\n",
       "      <td>0</td>\n",
       "      <td>0</td>\n",
       "      <td>0</td>\n",
       "      <td>0</td>\n",
       "      <td>0</td>\n",
       "      <td>0</td>\n",
       "      <td>0</td>\n",
       "      <td>0</td>\n",
       "      <td>1</td>\n",
       "      <td>0</td>\n",
       "    </tr>\n",
       "  </tbody>\n",
       "</table>\n",
       "<p>5 rows × 21 columns</p>\n",
       "</div>"
      ],
      "text/plain": [
       "   Blowing Sand/Dirt  Clear  Fog/Smog/Smoke  Overcast  Partly Cloudy  Raining  \\\n",
       "0                  0      1               0         0              0        0   \n",
       "1                  0      1               0         0              0        0   \n",
       "2                  0      0               0         0              0        1   \n",
       "3                  0      0               0         1              0        0   \n",
       "4                  0      1               0         0              0        0   \n",
       "\n",
       "   Severe Crosswind  Sleet/Hail/Freezing Rain  Snowing  Dry  ...  Oil  \\\n",
       "0                 0                         0        0    1  ...    0   \n",
       "1                 0                         0        0    1  ...    0   \n",
       "2                 0                         0        0    0  ...    0   \n",
       "3                 0                         0        0    1  ...    0   \n",
       "4                 0                         0        0    1  ...    0   \n",
       "\n",
       "   Sand/Mud/Dirt  Snow/Slush  Standing Water  Wet  Dark - No Street Lights  \\\n",
       "0              0           0               0    0                        0   \n",
       "1              0           0               0    0                        0   \n",
       "2              0           0               0    1                        0   \n",
       "3              0           0               0    0                        0   \n",
       "4              0           0               0    0                        0   \n",
       "\n",
       "   Dark - Street Lights On  Dawn  Daylight  Dusk  \n",
       "0                        1     0         0     0  \n",
       "1                        0     0         1     0  \n",
       "2                        1     0         0     0  \n",
       "3                        0     0         1     0  \n",
       "4                        0     0         1     0  \n",
       "\n",
       "[5 rows x 21 columns]"
      ]
     },
     "execution_count": 30,
     "metadata": {},
     "output_type": "execute_result"
    }
   ],
   "source": [
    "# One hot encoding for the relevant dataset\n",
    "feature = pd.concat([pd.get_dummies(colData['WEATHER']), \n",
    "                     pd.get_dummies(colData['ROADCOND']),\n",
    "                     pd.get_dummies(colData['LIGHTCOND'])], axis=1)\n",
    "feature.head()"
   ]
  },
  {
   "cell_type": "code",
   "execution_count": 35,
   "metadata": {},
   "outputs": [],
   "source": [
    "# Defining X matrix and y vector\n",
    "X = feature\n",
    "y = colData['severity'].values"
   ]
  },
  {
   "cell_type": "code",
   "execution_count": 36,
   "metadata": {},
   "outputs": [
    {
     "name": "stdout",
     "output_type": "stream",
     "text": [
      "Train set: (78276, 21) (78276,)\n",
      "Test set: (19570, 21) (19570,)\n"
     ]
    }
   ],
   "source": [
    "# Normalizing and splitting data\n",
    "from sklearn import preprocessing\n",
    "\n",
    "X = preprocessing.StandardScaler().fit(X).transform(X)\n",
    "X_train, X_test, y_train, y_test = train_test_split(X, y, test_size=0.2, random_state=4)\n",
    "print ('Train set:', X_train.shape,  y_train.shape)\n",
    "print ('Test set:', X_test.shape,  y_test.shape)"
   ]
  },
  {
   "cell_type": "markdown",
   "metadata": {},
   "source": [
    "# K-Nearest Neighbour Classification Method"
   ]
  },
  {
   "cell_type": "code",
   "execution_count": 47,
   "metadata": {},
   "outputs": [
    {
     "data": {
      "text/plain": [
       "[<matplotlib.lines.Line2D at 0x7fa6719f2ee0>]"
      ]
     },
     "execution_count": 47,
     "metadata": {},
     "output_type": "execute_result"
    },
    {
     "data": {
      "image/png": "[encoded data removed]",
      "text/plain": [
       "<Figure size 432x288 with 1 Axes>"
      ]
     },
     "metadata": {
      "needs_background": "light"
     },
     "output_type": "display_data"
    }
   ],
   "source": [
    "from sklearn.neighbors import KNeighborsClassifier\n",
    "from sklearn.metrics import accuracy_score\n",
    "\n",
    "# Best k\n",
    "Ks=15\n",
    "accuracy = np.zeros((Ks-1))\n",
    "\n",
    "for n in range(1,Ks):\n",
    "    \n",
    "    #Train Model and Predict  \n",
    "    kNN_model = KNeighborsClassifier(n_neighbors=n).fit(X_train,y_train)\n",
    "    yhat = kNN_model.predict(X_test)\n",
    "    accuracy[n-1] = accuracy_score(y_test, yhat)\n",
    "\n",
    "\n",
    "plt.plot(range(1,Ks), accuracy)"
   ]
  },
  {
   "cell_type": "markdown",
   "metadata": {},
   "source": [
    "Given the result, the best k value is 7 which also prevents overfitting. Let's re-traing KNN with neighbours = 7 and get the accuracy score."
   ]
  },
  {
   "cell_type": "code",
   "execution_count": 48,
   "metadata": {},
   "outputs": [
    {
     "name": "stdout",
     "output_type": "stream",
     "text": [
      "0.5100153295861012\n"
     ]
    }
   ],
   "source": [
    "kNN_model = KNeighborsClassifier(n_neighbors=7).fit(X_train,y_train)\n",
    "yhat = kNN_model.predict(X_test)\n",
    "print(accuracy_score(y_test, yhat))"
   ]
  },
  {
   "cell_type": "markdown",
   "metadata": {},
   "source": [
    "# Decision Tree"
   ]
  },
  {
   "cell_type": "code",
   "execution_count": 49,
   "metadata": {},
   "outputs": [
    {
     "name": "stdout",
     "output_type": "stream",
     "text": [
      "0.5194174757281553\n"
     ]
    }
   ],
   "source": [
    "from sklearn.tree import DecisionTreeClassifier\n",
    "\n",
    "# Train to the maximum depth\n",
    "#DT_model = DecisionTreeClassifier(criterion=\"entropy\", max_depth = 7)\n",
    "\n",
    "DT_model = DecisionTreeClassifier(criterion=\"entropy\")\n",
    "DT_model.fit(X_train,y_train)\n",
    "yhat = DT_model.predict(X_test)\n",
    "\n",
    "print(accuracy_score(y_test, yhat))"
   ]
  },
  {
   "cell_type": "markdown",
   "metadata": {},
   "source": [
    "# Support Vector Machine"
   ]
  },
  {
   "cell_type": "code",
   "execution_count": 50,
   "metadata": {},
   "outputs": [
    {
     "name": "stdout",
     "output_type": "stream",
     "text": [
      "0.5194685743484926\n"
     ]
    }
   ],
   "source": [
    "from sklearn import svm\n",
    "\n",
    "SVM_model = svm.SVC()\n",
    "SVM_model.fit(X_train, y_train)\n",
    "yhat = SVM_model.predict(X_test)\n",
    "\n",
    "print(accuracy_score(y_test, yhat))"
   ]
  },
  {
   "cell_type": "markdown",
   "metadata": {},
   "source": [
    "# Logistic Regression"
   ]
  },
  {
   "cell_type": "code",
   "execution_count": 46,
   "metadata": {},
   "outputs": [
    {
     "name": "stdout",
     "output_type": "stream",
     "text": [
      "0.5183444047010731\n"
     ]
    }
   ],
   "source": [
    "from sklearn.linear_model import LogisticRegression\n",
    "LR_model = LogisticRegression(C=0.01).fit(X_train,y_train)\n",
    "yhat = LR_model.predict(X_test)\n",
    "\n",
    "print(accuracy_score(y_test, yhat))"
   ]
  },
  {
   "cell_type": "markdown",
   "metadata": {},
   "source": [
    "# Random Forest "
   ]
  },
  {
   "cell_type": "code",
   "execution_count": 83,
   "metadata": {},
   "outputs": [
    {
     "name": "stdout",
     "output_type": "stream",
     "text": [
      "0.5197240674501789\n"
     ]
    }
   ],
   "source": [
    "from sklearn.ensemble import RandomForestClassifier\n",
    "\n",
    "RF_model = RandomForestClassifier().fit(X_train,y_train)\n",
    "yhat = RF_model.predict(X_test)\n",
    "\n",
    "print(accuracy_score(y_test, yhat))"
   ]
  },
  {
   "cell_type": "code",
   "execution_count": 84,
   "metadata": {
    "scrolled": true
   },
   "outputs": [],
   "source": [
    "# Let's save the models for later use (to avoid retrain KNN and SVM)\n",
    "import pickle\n",
    "models = {'KNN_model': kNN_model, 'DT_model': DT_model, 'SVM_model': SVM_model, \n",
    "          'LR_model': LR_model, 'RF_model': RF_model}\n",
    "\n",
    "for filename, model in models.items():\n",
    "    pickle.dump(model, open('models/{}.mdl'.format(filename), 'wb'))"
   ]
  },
  {
   "cell_type": "code",
   "execution_count": 62,
   "metadata": {},
   "outputs": [
    {
     "name": "stdout",
     "output_type": "stream",
     "text": [
      "0.5183444047010731\n"
     ]
    }
   ],
   "source": [
    "# Retrieve models from HDD\n",
    "for filename, model in models.items():\n",
    "    model = pickle.load(open('models/{}.mdl'.format(filename), 'rb'))\n",
    "    \n",
    "yhat = LR_model.predict(X_test)\n",
    "print(accuracy_score(y_test, yhat))"
   ]
  },
  {
   "cell_type": "code",
   "execution_count": 80,
   "metadata": {},
   "outputs": [],
   "source": [
    "from sklearn.metrics import jaccard_score, f1_score\n",
    "from sklearn.metrics import classification_report, confusion_matrix\n",
    "import itertools\n",
    "def plot_confusion_matrix(cm, classes,\n",
    "                          normalize=False,\n",
    "                          title='Confusion matrix',\n",
    "                          cmap=plt.cm.Blues):\n",
    "    \"\"\"\n",
    "    This function prints and plots the confusion matrix.\n",
    "    Normalization can be applied by setting `normalize=True`.\n",
    "    \"\"\"\n",
    "    if normalize:\n",
    "        cm = cm.astype('float') / cm.sum(axis=1)[:, np.newaxis]\n",
    "        #print(\"Normalized confusion matrix\")\n",
    "    else:\n",
    "        #print('Confusion matrix, without normalization')\n",
    "        pass\n",
    "\n",
    "    #print(cm)\n",
    "\n",
    "    plt.imshow(cm, interpolation='nearest', cmap=cmap)\n",
    "    plt.title(title)\n",
    "    plt.colorbar()\n",
    "    tick_marks = np.arange(len(classes))\n",
    "    plt.xticks(tick_marks, classes, rotation=45)\n",
    "    plt.yticks(tick_marks, classes)\n",
    "\n",
    "    fmt = '.2f' if normalize else 'd'\n",
    "    thresh = cm.max() / 2.\n",
    "    for i, j in itertools.product(range(cm.shape[0]), range(cm.shape[1])):\n",
    "        plt.text(j, i, format(cm[i, j], fmt),\n",
    "                 horizontalalignment=\"center\",\n",
    "                 color=\"white\" if cm[i, j] > thresh else \"black\")\n",
    "\n",
    "    plt.tight_layout()\n",
    "    plt.ylabel('True label')\n",
    "    plt.xlabel('Predicted label')\n",
    "    \n",
    "#print(confusion_matrix(y_test, yhat, labels=[1,0]))"
   ]
  },
  {
   "cell_type": "code",
   "execution_count": 81,
   "metadata": {},
   "outputs": [],
   "source": [
    "def get_scores(name, y_test, yhat):\n",
    "    print(\"Evaluation of {} model\".format(name))\n",
    "    # Compute confusion matrix\n",
    "    cnf_matrix = confusion_matrix(y_test, yhat, labels=[1,0])\n",
    "    np.set_printoptions(precision=2)\n",
    "\n",
    "    # Plot non-normalized confusion matrix\n",
    "    plt.figure()\n",
    "    plot_confusion_matrix(cnf_matrix, classes=['severity=1','severity=0'],\n",
    "                          normalize= False,  title='{} confusion matrix'.format(name))\n",
    "\n",
    "    print(classification_report(y_test, yhat))\n",
    "    print(\"Accuracy score: %.2f\" % accuracy_score(y_test, yhat))\n",
    "    print(\"Jaccard score: %.2f\" % jaccard_score(y_test, yhat))\n",
    "    print(\"f1-score: %.2f\" % f1_score(y_test, yhat, average='weighted'))"
   ]
  },
  {
   "cell_type": "code",
   "execution_count": 82,
   "metadata": {},
   "outputs": [
    {
     "name": "stdout",
     "output_type": "stream",
     "text": [
      "Evaluation of KNN_model model\n",
      "              precision    recall  f1-score   support\n",
      "\n",
      "           0       0.51      0.43      0.46      9693\n",
      "           1       0.51      0.59      0.55      9877\n",
      "\n",
      "    accuracy                           0.51     19570\n",
      "   macro avg       0.51      0.51      0.51     19570\n",
      "weighted avg       0.51      0.51      0.51     19570\n",
      "\n",
      "Accuracy score: 0.51\n",
      "Jaccard score: 0.38\n",
      "f1-score: 0.51\n",
      "-------------------------\n",
      "Evaluation of DT_model model\n",
      "              precision    recall  f1-score   support\n",
      "\n",
      "           0       0.53      0.24      0.33      9693\n",
      "           1       0.52      0.79      0.62      9877\n",
      "\n",
      "    accuracy                           0.52     19570\n",
      "   macro avg       0.52      0.52      0.48     19570\n",
      "weighted avg       0.52      0.52      0.48     19570\n",
      "\n",
      "Accuracy score: 0.52\n",
      "Jaccard score: 0.45\n",
      "f1-score: 0.48\n",
      "-------------------------\n",
      "Evaluation of SVM_model model\n",
      "              precision    recall  f1-score   support\n",
      "\n",
      "           0       0.53      0.24      0.33      9693\n",
      "           1       0.52      0.79      0.62      9877\n",
      "\n",
      "    accuracy                           0.52     19570\n",
      "   macro avg       0.52      0.52      0.48     19570\n",
      "weighted avg       0.52      0.52      0.48     19570\n",
      "\n",
      "Accuracy score: 0.52\n",
      "Jaccard score: 0.45\n",
      "f1-score: 0.48\n",
      "-------------------------\n",
      "Evaluation of LR_model model\n",
      "              precision    recall  f1-score   support\n",
      "\n",
      "           0       0.52      0.30      0.38      9693\n",
      "           1       0.52      0.73      0.61      9877\n",
      "\n",
      "    accuracy                           0.52     19570\n",
      "   macro avg       0.52      0.52      0.49     19570\n",
      "weighted avg       0.52      0.52      0.49     19570\n",
      "\n",
      "Accuracy score: 0.52\n",
      "Jaccard score: 0.43\n",
      "f1-score: 0.49\n",
      "-------------------------\n"
     ]
    },
    {
     "data": {
      "image/png": "[encoded data removed]",
      "text/plain": [
       "<Figure size 432x288 with 2 Axes>"
      ]
     },
     "metadata": {
      "needs_background": "light"
     },
     "output_type": "display_data"
    },
    {
     "data": {
      "image/png": "[encoded data removed]",
      "text/plain": [
       "<Figure size 432x288 with 2 Axes>"
      ]
     },
     "metadata": {
      "needs_background": "light"
     },
     "output_type": "display_data"
    },
    {
     "data": {
      "image/png": "[encoded data removed]",
      "text/plain": [
       "<Figure size 432x288 with 2 Axes>"
      ]
     },
     "metadata": {
      "needs_background": "light"
     },
     "output_type": "display_data"
    },
    {
     "data": {
      "image/png": "[encoded data removed]",
      "text/plain": [
       "<Figure size 432x288 with 2 Axes>"
      ]
     },
     "metadata": {
      "needs_background": "light"
     },
     "output_type": "display_data"
    }
   ],
   "source": [
    "for filename, model in models.items():\n",
    "    yhat = model.predict(X_test)\n",
    "    get_scores(filename, y_test, yhat)\n",
    "    print(\"-------------------------\")"
   ]
  },
  {
   "cell_type": "markdown",
   "metadata": {},
   "source": [
    "# Optimization\n",
    "\n",
    "Based on the results, let's optimize the Logistic Regression and Random Forest Models"
   ]
  },
  {
   "cell_type": "code",
   "execution_count": 96,
   "metadata": {},
   "outputs": [
    {
     "name": "stdout",
     "output_type": "stream",
     "text": [
      "Fitting 5 folds for each of 120 candidates, totalling 600 fits\n"
     ]
    },
    {
     "name": "stderr",
     "output_type": "stream",
     "text": [
      "[Parallel(n_jobs=-1)]: Using backend LokyBackend with 4 concurrent workers.\n",
      "[Parallel(n_jobs=-1)]: Done  42 tasks      | elapsed:    4.3s\n",
      "[Parallel(n_jobs=-1)]: Done 192 tasks      | elapsed:  4.3min\n",
      "[Parallel(n_jobs=-1)]: Done 442 tasks      | elapsed: 17.9min\n",
      "[Parallel(n_jobs=-1)]: Done 600 out of 600 | elapsed: 28.0min finished\n"
     ]
    }
   ],
   "source": [
    "# Create first pipeline for base without reducing features.\n",
    "from sklearn.pipeline import Pipeline\n",
    "from sklearn.model_selection import GridSearchCV\n",
    "\n",
    "pipe = Pipeline([('classifier', RandomForestClassifier())])\n",
    "\n",
    "# Create param grid.\n",
    "\n",
    "param_grid = [\n",
    "    {'classifier' : [LogisticRegression()],\n",
    "     'classifier__penalty' : ['l2'],\n",
    "    'classifier__C' : np.logspace(-4, 4, 20),\n",
    "    'classifier__solver' : ['lbfgs']},\n",
    "    {'classifier' : [RandomForestClassifier()],\n",
    "    'classifier__n_estimators' : list(range(75,85,1)),\n",
    "    'classifier__max_features' : list(range(6,16,1))}\n",
    "]\n",
    "\n",
    "# Create grid search object\n",
    "\n",
    "model = GridSearchCV(pipe, param_grid = param_grid, cv = 5, verbose=True, n_jobs=-1)\n",
    "\n",
    "# Fit on data\n",
    "\n",
    "best_model = model.fit(X_train, y_train)"
   ]
  },
  {
   "cell_type": "code",
   "execution_count": 99,
   "metadata": {},
   "outputs": [
    {
     "name": "stdout",
     "output_type": "stream",
     "text": [
      "{'classifier': RandomForestClassifier(max_features=6, n_estimators=75), 'classifier__max_features': 6, 'classifier__n_estimators': 75}\n",
      "Evaluation of Best Model model\n",
      "              precision    recall  f1-score   support\n",
      "\n",
      "           0       0.53      0.24      0.33      9693\n",
      "           1       0.52      0.79      0.63      9877\n",
      "\n",
      "    accuracy                           0.52     19570\n",
      "   macro avg       0.52      0.52      0.48     19570\n",
      "weighted avg       0.52      0.52      0.48     19570\n",
      "\n",
      "Accuracy score: 0.52\n",
      "Jaccard score: 0.45\n",
      "f1-score: 0.48\n"
     ]
    },
    {
     "data": {
      "image/png": "[encoded data removed]",
      "text/plain": [
       "<Figure size 432x288 with 2 Axes>"
      ]
     },
     "metadata": {
      "needs_background": "light"
     },
     "output_type": "display_data"
    }
   ],
   "source": [
    "print(best_model.best_params_)\n",
    "yhat = best_model.predict(X_test)\n",
    "get_scores('Best Model', y_test, yhat)"
   ]
  },
  {
   "cell_type": "code",
   "execution_count": 98,
   "metadata": {},
   "outputs": [
    {
     "data": {
      "text/plain": [
       "{'classifier': RandomForestClassifier(max_features=6, n_estimators=75),\n",
       " 'classifier__max_features': 6,\n",
       " 'classifier__n_estimators': 75}"
      ]
     },
     "execution_count": 98,
     "metadata": {},
     "output_type": "execute_result"
    }
   ],
   "source": [
    "best_model.best_params_"
   ]
  },
  {
   "cell_type": "code",
   "execution_count": 100,
   "metadata": {},
   "outputs": [],
   "source": [
    "pickle.dump(best_model, open('models/{}.mdl'.format('RF_optimized'), 'wb'))"
   ]
  }
 ],
 "metadata": {
  "kernelspec": {
   "display_name": "Python 3",
   "language": "python",
   "name": "python3"
  },
  "language_info": {
   "codemirror_mode": {
    "name": "ipython",
    "version": 3
   },
   "file_extension": ".py",
   "mimetype": "text/x-python",
   "name": "python",
   "nbconvert_exporter": "python",
   "pygments_lexer": "ipython3",
   "version": "3.8.5"
  }
 },
 "nbformat": 4,
 "nbformat_minor": 4
}
