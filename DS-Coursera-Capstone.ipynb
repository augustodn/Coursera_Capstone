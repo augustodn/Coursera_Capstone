{
 "cells": [
  {
   "cell_type": "markdown",
   "metadata": {},
   "source": [
    "<h1> Applied Data Science Coursera Capstone </h1>"
   ]
  },
  {
   "cell_type": "markdown",
   "metadata": {},
   "source": [
    "The purpose of this notebook is to accomplish the Applied Data Science Coursera Capstone requirements"
   ]
  },
  {
   "cell_type": "code",
   "execution_count": 1,
   "metadata": {},
   "outputs": [
    {
     "name": "stdout",
     "output_type": "stream",
     "text": [
      "Hello Capstone Project Course!\n"
     ]
    }
   ],
   "source": [
    "#!jt -t oceans16 -fs 12 -ofs 12\n",
    "import pandas as pd\n",
    "import numpy as np\n",
    "print(\"Hello Capstone Project Course!\")"
   ]
  },
  {
   "cell_type": "markdown",
   "metadata": {},
   "source": [
    "Business Understanding - A description of the problem and a discussion of the background. \n",
    "\n",
    "Predict accident severity taking into account:\n",
    "<ul>\n",
    "    <li> Weather Conditions </li>\n",
    "    <li> Road Conditions </li>\n",
    "</ul>"
   ]
  },
  {
   "cell_type": "markdown",
   "metadata": {},
   "source": [
    "Data Understanding - A description of the data and how it will be used to solve the problem. \n",
    "\n",
    "Attributes to use:\n",
    "<ul>\n",
    "    <li> Location </li>\n",
    "    <li> Road Condition </li>\n",
    "    <li> Weather Condition </li>\n",
    "    <li> Junction Type </li>\n",
    "    <li> Car Speeding </li>\n",
    "    <li> Number of People Involved </li>\n",
    "    <li> Light Conditions </li>\n",
    "    <li> Number of Vehicles involved </li>\n",
    "</ul>"
   ]
  },
  {
   "cell_type": "code",
   "execution_count": 2,
   "metadata": {},
   "outputs": [
    {
     "name": "stderr",
     "output_type": "stream",
     "text": [
      "/usr/lib/python3.8/site-packages/IPython/core/interactiveshell.py:3145: DtypeWarning: Columns (33) have mixed types.Specify dtype option on import or set low_memory=False.\n",
      "  has_raised = await self.run_ast_nodes(code_ast.body, cell_name,\n"
     ]
    },
    {
     "data": {
      "text/plain": [
       "Index(['SEVERITYCODE', 'X', 'Y', 'OBJECTID', 'INCKEY', 'COLDETKEY', 'REPORTNO',\n",
       "       'STATUS', 'ADDRTYPE', 'INTKEY', 'LOCATION', 'EXCEPTRSNCODE',\n",
       "       'EXCEPTRSNDESC', 'SEVERITYCODE.1', 'SEVERITYDESC', 'COLLISIONTYPE',\n",
       "       'PERSONCOUNT', 'PEDCOUNT', 'PEDCYLCOUNT', 'VEHCOUNT', 'INCDATE',\n",
       "       'INCDTTM', 'JUNCTIONTYPE', 'SDOT_COLCODE', 'SDOT_COLDESC',\n",
       "       'INATTENTIONIND', 'UNDERINFL', 'WEATHER', 'ROADCOND', 'LIGHTCOND',\n",
       "       'PEDROWNOTGRNT', 'SDOTCOLNUM', 'SPEEDING', 'ST_COLCODE', 'ST_COLDESC',\n",
       "       'SEGLANEKEY', 'CROSSWALKKEY', 'HITPARKEDCAR'],\n",
       "      dtype='object')"
      ]
     },
     "execution_count": 2,
     "metadata": {},
     "output_type": "execute_result"
    }
   ],
   "source": [
    "df = pd.read_csv(\"../Data-Collisions.csv\")\n",
    "df.columns"
   ]
  },
  {
   "cell_type": "code",
   "execution_count": 3,
   "metadata": {},
   "outputs": [
    {
     "data": {
      "text/html": [
       "<div>\n",
       "<style scoped>\n",
       "    .dataframe tbody tr th:only-of-type {\n",
       "        vertical-align: middle;\n",
       "    }\n",
       "\n",
       "    .dataframe tbody tr th {\n",
       "        vertical-align: top;\n",
       "    }\n",
       "\n",
       "    .dataframe thead th {\n",
       "        text-align: right;\n",
       "    }\n",
       "</style>\n",
       "<table border=\"1\" class=\"dataframe\">\n",
       "  <thead>\n",
       "    <tr style=\"text-align: right;\">\n",
       "      <th></th>\n",
       "      <th>SEVERITYCODE</th>\n",
       "      <th>X</th>\n",
       "      <th>Y</th>\n",
       "      <th>OBJECTID</th>\n",
       "      <th>INCKEY</th>\n",
       "      <th>COLDETKEY</th>\n",
       "      <th>REPORTNO</th>\n",
       "      <th>STATUS</th>\n",
       "      <th>ADDRTYPE</th>\n",
       "      <th>INTKEY</th>\n",
       "      <th>...</th>\n",
       "      <th>ROADCOND</th>\n",
       "      <th>LIGHTCOND</th>\n",
       "      <th>PEDROWNOTGRNT</th>\n",
       "      <th>SDOTCOLNUM</th>\n",
       "      <th>SPEEDING</th>\n",
       "      <th>ST_COLCODE</th>\n",
       "      <th>ST_COLDESC</th>\n",
       "      <th>SEGLANEKEY</th>\n",
       "      <th>CROSSWALKKEY</th>\n",
       "      <th>HITPARKEDCAR</th>\n",
       "    </tr>\n",
       "  </thead>\n",
       "  <tbody>\n",
       "    <tr>\n",
       "      <th>0</th>\n",
       "      <td>2</td>\n",
       "      <td>-122.323148</td>\n",
       "      <td>47.703140</td>\n",
       "      <td>1</td>\n",
       "      <td>1307</td>\n",
       "      <td>1307</td>\n",
       "      <td>3502005</td>\n",
       "      <td>Matched</td>\n",
       "      <td>Intersection</td>\n",
       "      <td>37475.0</td>\n",
       "      <td>...</td>\n",
       "      <td>Wet</td>\n",
       "      <td>Daylight</td>\n",
       "      <td>NaN</td>\n",
       "      <td>NaN</td>\n",
       "      <td>NaN</td>\n",
       "      <td>10</td>\n",
       "      <td>Entering at angle</td>\n",
       "      <td>0</td>\n",
       "      <td>0</td>\n",
       "      <td>N</td>\n",
       "    </tr>\n",
       "    <tr>\n",
       "      <th>1</th>\n",
       "      <td>1</td>\n",
       "      <td>-122.347294</td>\n",
       "      <td>47.647172</td>\n",
       "      <td>2</td>\n",
       "      <td>52200</td>\n",
       "      <td>52200</td>\n",
       "      <td>2607959</td>\n",
       "      <td>Matched</td>\n",
       "      <td>Block</td>\n",
       "      <td>NaN</td>\n",
       "      <td>...</td>\n",
       "      <td>Wet</td>\n",
       "      <td>Dark - Street Lights On</td>\n",
       "      <td>NaN</td>\n",
       "      <td>6354039.0</td>\n",
       "      <td>NaN</td>\n",
       "      <td>11</td>\n",
       "      <td>From same direction - both going straight - bo...</td>\n",
       "      <td>0</td>\n",
       "      <td>0</td>\n",
       "      <td>N</td>\n",
       "    </tr>\n",
       "    <tr>\n",
       "      <th>2</th>\n",
       "      <td>1</td>\n",
       "      <td>-122.334540</td>\n",
       "      <td>47.607871</td>\n",
       "      <td>3</td>\n",
       "      <td>26700</td>\n",
       "      <td>26700</td>\n",
       "      <td>1482393</td>\n",
       "      <td>Matched</td>\n",
       "      <td>Block</td>\n",
       "      <td>NaN</td>\n",
       "      <td>...</td>\n",
       "      <td>Dry</td>\n",
       "      <td>Daylight</td>\n",
       "      <td>NaN</td>\n",
       "      <td>4323031.0</td>\n",
       "      <td>NaN</td>\n",
       "      <td>32</td>\n",
       "      <td>One parked--one moving</td>\n",
       "      <td>0</td>\n",
       "      <td>0</td>\n",
       "      <td>N</td>\n",
       "    </tr>\n",
       "    <tr>\n",
       "      <th>3</th>\n",
       "      <td>1</td>\n",
       "      <td>-122.334803</td>\n",
       "      <td>47.604803</td>\n",
       "      <td>4</td>\n",
       "      <td>1144</td>\n",
       "      <td>1144</td>\n",
       "      <td>3503937</td>\n",
       "      <td>Matched</td>\n",
       "      <td>Block</td>\n",
       "      <td>NaN</td>\n",
       "      <td>...</td>\n",
       "      <td>Dry</td>\n",
       "      <td>Daylight</td>\n",
       "      <td>NaN</td>\n",
       "      <td>NaN</td>\n",
       "      <td>NaN</td>\n",
       "      <td>23</td>\n",
       "      <td>From same direction - all others</td>\n",
       "      <td>0</td>\n",
       "      <td>0</td>\n",
       "      <td>N</td>\n",
       "    </tr>\n",
       "    <tr>\n",
       "      <th>4</th>\n",
       "      <td>2</td>\n",
       "      <td>-122.306426</td>\n",
       "      <td>47.545739</td>\n",
       "      <td>5</td>\n",
       "      <td>17700</td>\n",
       "      <td>17700</td>\n",
       "      <td>1807429</td>\n",
       "      <td>Matched</td>\n",
       "      <td>Intersection</td>\n",
       "      <td>34387.0</td>\n",
       "      <td>...</td>\n",
       "      <td>Wet</td>\n",
       "      <td>Daylight</td>\n",
       "      <td>NaN</td>\n",
       "      <td>4028032.0</td>\n",
       "      <td>NaN</td>\n",
       "      <td>10</td>\n",
       "      <td>Entering at angle</td>\n",
       "      <td>0</td>\n",
       "      <td>0</td>\n",
       "      <td>N</td>\n",
       "    </tr>\n",
       "  </tbody>\n",
       "</table>\n",
       "<p>5 rows × 38 columns</p>\n",
       "</div>"
      ],
      "text/plain": [
       "   SEVERITYCODE           X          Y  OBJECTID  INCKEY  COLDETKEY REPORTNO  \\\n",
       "0             2 -122.323148  47.703140         1    1307       1307  3502005   \n",
       "1             1 -122.347294  47.647172         2   52200      52200  2607959   \n",
       "2             1 -122.334540  47.607871         3   26700      26700  1482393   \n",
       "3             1 -122.334803  47.604803         4    1144       1144  3503937   \n",
       "4             2 -122.306426  47.545739         5   17700      17700  1807429   \n",
       "\n",
       "    STATUS      ADDRTYPE   INTKEY  ... ROADCOND                LIGHTCOND  \\\n",
       "0  Matched  Intersection  37475.0  ...      Wet                 Daylight   \n",
       "1  Matched         Block      NaN  ...      Wet  Dark - Street Lights On   \n",
       "2  Matched         Block      NaN  ...      Dry                 Daylight   \n",
       "3  Matched         Block      NaN  ...      Dry                 Daylight   \n",
       "4  Matched  Intersection  34387.0  ...      Wet                 Daylight   \n",
       "\n",
       "  PEDROWNOTGRNT  SDOTCOLNUM SPEEDING ST_COLCODE  \\\n",
       "0           NaN         NaN      NaN         10   \n",
       "1           NaN   6354039.0      NaN         11   \n",
       "2           NaN   4323031.0      NaN         32   \n",
       "3           NaN         NaN      NaN         23   \n",
       "4           NaN   4028032.0      NaN         10   \n",
       "\n",
       "                                          ST_COLDESC  SEGLANEKEY  \\\n",
       "0                                  Entering at angle           0   \n",
       "1  From same direction - both going straight - bo...           0   \n",
       "2                             One parked--one moving           0   \n",
       "3                   From same direction - all others           0   \n",
       "4                                  Entering at angle           0   \n",
       "\n",
       "   CROSSWALKKEY  HITPARKEDCAR  \n",
       "0             0             N  \n",
       "1             0             N  \n",
       "2             0             N  \n",
       "3             0             N  \n",
       "4             0             N  \n",
       "\n",
       "[5 rows x 38 columns]"
      ]
     },
     "execution_count": 3,
     "metadata": {},
     "output_type": "execute_result"
    }
   ],
   "source": [
    "df.head()"
   ]
  },
  {
   "cell_type": "code",
   "execution_count": 4,
   "metadata": {},
   "outputs": [],
   "source": [
    "colData = df[['SEVERITYCODE', 'X', 'Y', 'ADDRTYPE', 'COLLISIONTYPE',\n",
    "               'PERSONCOUNT', 'VEHCOUNT', 'JUNCTIONTYPE',  'WEATHER', 'ROADCOND', 'LIGHTCOND', \n",
    "               'SPEEDING', 'UNDERINFL', 'INATTENTIONIND']]\n",
    "#Location, Road Condition, Weather Condition, Junction Type, Car Speeding, Number of People Involved, Light Conditions, Number of Vehicles involved"
   ]
  },
  {
   "cell_type": "code",
   "execution_count": 5,
   "metadata": {},
   "outputs": [
    {
     "data": {
      "text/html": [
       "<div>\n",
       "<style scoped>\n",
       "    .dataframe tbody tr th:only-of-type {\n",
       "        vertical-align: middle;\n",
       "    }\n",
       "\n",
       "    .dataframe tbody tr th {\n",
       "        vertical-align: top;\n",
       "    }\n",
       "\n",
       "    .dataframe thead th {\n",
       "        text-align: right;\n",
       "    }\n",
       "</style>\n",
       "<table border=\"1\" class=\"dataframe\">\n",
       "  <thead>\n",
       "    <tr style=\"text-align: right;\">\n",
       "      <th></th>\n",
       "      <th>SEVERITYCODE</th>\n",
       "      <th>X</th>\n",
       "      <th>Y</th>\n",
       "      <th>ADDRTYPE</th>\n",
       "      <th>COLLISIONTYPE</th>\n",
       "      <th>PERSONCOUNT</th>\n",
       "      <th>VEHCOUNT</th>\n",
       "      <th>JUNCTIONTYPE</th>\n",
       "      <th>WEATHER</th>\n",
       "      <th>ROADCOND</th>\n",
       "      <th>LIGHTCOND</th>\n",
       "      <th>SPEEDING</th>\n",
       "      <th>UNDERINFL</th>\n",
       "      <th>INATTENTIONIND</th>\n",
       "    </tr>\n",
       "  </thead>\n",
       "  <tbody>\n",
       "    <tr>\n",
       "      <th>0</th>\n",
       "      <td>2</td>\n",
       "      <td>-122.323148</td>\n",
       "      <td>47.703140</td>\n",
       "      <td>Intersection</td>\n",
       "      <td>Angles</td>\n",
       "      <td>2</td>\n",
       "      <td>2</td>\n",
       "      <td>At Intersection (intersection related)</td>\n",
       "      <td>Overcast</td>\n",
       "      <td>Wet</td>\n",
       "      <td>Daylight</td>\n",
       "      <td>NaN</td>\n",
       "      <td>N</td>\n",
       "      <td>NaN</td>\n",
       "    </tr>\n",
       "    <tr>\n",
       "      <th>1</th>\n",
       "      <td>1</td>\n",
       "      <td>-122.347294</td>\n",
       "      <td>47.647172</td>\n",
       "      <td>Block</td>\n",
       "      <td>Sideswipe</td>\n",
       "      <td>2</td>\n",
       "      <td>2</td>\n",
       "      <td>Mid-Block (not related to intersection)</td>\n",
       "      <td>Raining</td>\n",
       "      <td>Wet</td>\n",
       "      <td>Dark - Street Lights On</td>\n",
       "      <td>NaN</td>\n",
       "      <td>0</td>\n",
       "      <td>NaN</td>\n",
       "    </tr>\n",
       "    <tr>\n",
       "      <th>2</th>\n",
       "      <td>1</td>\n",
       "      <td>-122.334540</td>\n",
       "      <td>47.607871</td>\n",
       "      <td>Block</td>\n",
       "      <td>Parked Car</td>\n",
       "      <td>4</td>\n",
       "      <td>3</td>\n",
       "      <td>Mid-Block (not related to intersection)</td>\n",
       "      <td>Overcast</td>\n",
       "      <td>Dry</td>\n",
       "      <td>Daylight</td>\n",
       "      <td>NaN</td>\n",
       "      <td>0</td>\n",
       "      <td>NaN</td>\n",
       "    </tr>\n",
       "    <tr>\n",
       "      <th>3</th>\n",
       "      <td>1</td>\n",
       "      <td>-122.334803</td>\n",
       "      <td>47.604803</td>\n",
       "      <td>Block</td>\n",
       "      <td>Other</td>\n",
       "      <td>3</td>\n",
       "      <td>3</td>\n",
       "      <td>Mid-Block (not related to intersection)</td>\n",
       "      <td>Clear</td>\n",
       "      <td>Dry</td>\n",
       "      <td>Daylight</td>\n",
       "      <td>NaN</td>\n",
       "      <td>N</td>\n",
       "      <td>NaN</td>\n",
       "    </tr>\n",
       "    <tr>\n",
       "      <th>4</th>\n",
       "      <td>2</td>\n",
       "      <td>-122.306426</td>\n",
       "      <td>47.545739</td>\n",
       "      <td>Intersection</td>\n",
       "      <td>Angles</td>\n",
       "      <td>2</td>\n",
       "      <td>2</td>\n",
       "      <td>At Intersection (intersection related)</td>\n",
       "      <td>Raining</td>\n",
       "      <td>Wet</td>\n",
       "      <td>Daylight</td>\n",
       "      <td>NaN</td>\n",
       "      <td>0</td>\n",
       "      <td>NaN</td>\n",
       "    </tr>\n",
       "  </tbody>\n",
       "</table>\n",
       "</div>"
      ],
      "text/plain": [
       "   SEVERITYCODE           X          Y      ADDRTYPE COLLISIONTYPE  \\\n",
       "0             2 -122.323148  47.703140  Intersection        Angles   \n",
       "1             1 -122.347294  47.647172         Block     Sideswipe   \n",
       "2             1 -122.334540  47.607871         Block    Parked Car   \n",
       "3             1 -122.334803  47.604803         Block         Other   \n",
       "4             2 -122.306426  47.545739  Intersection        Angles   \n",
       "\n",
       "   PERSONCOUNT  VEHCOUNT                             JUNCTIONTYPE   WEATHER  \\\n",
       "0            2         2   At Intersection (intersection related)  Overcast   \n",
       "1            2         2  Mid-Block (not related to intersection)   Raining   \n",
       "2            4         3  Mid-Block (not related to intersection)  Overcast   \n",
       "3            3         3  Mid-Block (not related to intersection)     Clear   \n",
       "4            2         2   At Intersection (intersection related)   Raining   \n",
       "\n",
       "  ROADCOND                LIGHTCOND SPEEDING UNDERINFL INATTENTIONIND  \n",
       "0      Wet                 Daylight      NaN         N            NaN  \n",
       "1      Wet  Dark - Street Lights On      NaN         0            NaN  \n",
       "2      Dry                 Daylight      NaN         0            NaN  \n",
       "3      Dry                 Daylight      NaN         N            NaN  \n",
       "4      Wet                 Daylight      NaN         0            NaN  "
      ]
     },
     "execution_count": 5,
     "metadata": {},
     "output_type": "execute_result"
    }
   ],
   "source": [
    "colData.head()"
   ]
  },
  {
   "cell_type": "code",
   "execution_count": 6,
   "metadata": {},
   "outputs": [
    {
     "name": "stdout",
     "output_type": "stream",
     "text": [
      "--------- Severity Code ---------\n",
      "1    136485\n",
      "2     58188\n",
      "Name: SEVERITYCODE, dtype: int64\n",
      "--------- Address Type ---------\n",
      "Block           126926\n",
      "Intersection     65070\n",
      "Alley              751\n",
      "Name: ADDRTYPE, dtype: int64\n",
      "--------- Collision Type ---------\n",
      "Parked Car    47987\n",
      "Angles        34674\n",
      "Rear Ended    34090\n",
      "Other         23703\n",
      "Sideswipe     18609\n",
      "Left Turn     13703\n",
      "Pedestrian     6608\n",
      "Cycles         5415\n",
      "Right Turn     2956\n",
      "Head On        2024\n",
      "Name: COLLISIONTYPE, dtype: int64\n",
      "--------- Junction Type ---------\n",
      "Mid-Block (not related to intersection)              89800\n",
      "At Intersection (intersection related)               62810\n",
      "Mid-Block (but intersection related)                 22790\n",
      "Driveway Junction                                    10671\n",
      "At Intersection (but not related to intersection)     2098\n",
      "Ramp Junction                                          166\n",
      "Unknown                                                  9\n",
      "Name: JUNCTIONTYPE, dtype: int64\n",
      "--------- Weather ---------\n",
      "Clear                       111135\n",
      "Raining                      33145\n",
      "Overcast                     27714\n",
      "Unknown                      15091\n",
      "Snowing                        907\n",
      "Other                          832\n",
      "Fog/Smog/Smoke                 569\n",
      "Sleet/Hail/Freezing Rain       113\n",
      "Blowing Sand/Dirt               56\n",
      "Severe Crosswind                25\n",
      "Partly Cloudy                    5\n",
      "Name: WEATHER, dtype: int64\n",
      "--------- Road Conditions ---------\n",
      "Dry               124510\n",
      "Wet                47474\n",
      "Unknown            15078\n",
      "Ice                 1209\n",
      "Snow/Slush          1004\n",
      "Other                132\n",
      "Standing Water       115\n",
      "Sand/Mud/Dirt         75\n",
      "Oil                   64\n",
      "Name: ROADCOND, dtype: int64\n",
      "--------- Light Conditions ---------\n",
      "Daylight                    116137\n",
      "Dark - Street Lights On      48507\n",
      "Unknown                      13473\n",
      "Dusk                          5902\n",
      "Dawn                          2502\n",
      "Dark - No Street Lights       1537\n",
      "Dark - Street Lights Off      1199\n",
      "Other                          235\n",
      "Dark - Unknown Lighting         11\n",
      "Name: LIGHTCOND, dtype: int64\n",
      "--------- Speeding ---------\n",
      "Y    9333\n",
      "Name: SPEEDING, dtype: int64\n",
      "--------- Under Influence ---------\n",
      "N    100274\n",
      "0     80394\n",
      "Y      5126\n",
      "1      3995\n",
      "Name: UNDERINFL, dtype: int64\n",
      "--------- Inattention ---------\n",
      "Y    29805\n",
      "Name: INATTENTIONIND, dtype: int64\n"
     ]
    }
   ],
   "source": [
    "print(\"--------- Severity Code ---------\")\n",
    "print(colData['SEVERITYCODE'].value_counts())\n",
    "print(\"--------- Address Type ---------\")\n",
    "print(colData['ADDRTYPE'].value_counts())\n",
    "print(\"--------- Collision Type ---------\")\n",
    "print(colData['COLLISIONTYPE'].value_counts())\n",
    "print(\"--------- Junction Type ---------\")\n",
    "print(colData['JUNCTIONTYPE'].value_counts())\n",
    "print(\"--------- Weather ---------\")\n",
    "print(colData['WEATHER'].value_counts())\n",
    "print(\"--------- Road Conditions ---------\")\n",
    "print(colData['ROADCOND'].value_counts())\n",
    "print(\"--------- Light Conditions ---------\")\n",
    "print(colData['LIGHTCOND'].value_counts())\n",
    "print(\"--------- Speeding ---------\")\n",
    "print(colData['SPEEDING'].value_counts())\n",
    "print(\"--------- Under Influence ---------\")\n",
    "print(colData['UNDERINFL'].value_counts())\n",
    "print(\"--------- Inattention ---------\")\n",
    "print(colData['INATTENTIONIND'].value_counts())\n"
   ]
  },
  {
   "cell_type": "code",
   "execution_count": 7,
   "metadata": {},
   "outputs": [
    {
     "data": {
      "text/plain": [
       "SEVERITYCODE           0\n",
       "X                   5334\n",
       "Y                   5334\n",
       "ADDRTYPE            1926\n",
       "COLLISIONTYPE       4904\n",
       "PERSONCOUNT            0\n",
       "VEHCOUNT               0\n",
       "JUNCTIONTYPE        6329\n",
       "WEATHER             5081\n",
       "ROADCOND            5012\n",
       "LIGHTCOND           5170\n",
       "SPEEDING          185340\n",
       "UNDERINFL           4884\n",
       "INATTENTIONIND    164868\n",
       "dtype: int64"
      ]
     },
     "execution_count": 7,
     "metadata": {},
     "output_type": "execute_result"
    }
   ],
   "source": [
    "colData.isna().sum()"
   ]
  },
  {
   "cell_type": "code",
   "execution_count": 8,
   "metadata": {},
   "outputs": [
    {
     "name": "stdout",
     "output_type": "stream",
     "text": [
      "<class 'pandas.core.frame.DataFrame'>\n",
      "RangeIndex: 194673 entries, 0 to 194672\n",
      "Data columns (total 14 columns):\n",
      " #   Column          Non-Null Count   Dtype  \n",
      "---  ------          --------------   -----  \n",
      " 0   SEVERITYCODE    194673 non-null  int64  \n",
      " 1   X               189339 non-null  float64\n",
      " 2   Y               189339 non-null  float64\n",
      " 3   ADDRTYPE        192747 non-null  object \n",
      " 4   COLLISIONTYPE   189769 non-null  object \n",
      " 5   PERSONCOUNT     194673 non-null  int64  \n",
      " 6   VEHCOUNT        194673 non-null  int64  \n",
      " 7   JUNCTIONTYPE    188344 non-null  object \n",
      " 8   WEATHER         189592 non-null  object \n",
      " 9   ROADCOND        189661 non-null  object \n",
      " 10  LIGHTCOND       189503 non-null  object \n",
      " 11  SPEEDING        9333 non-null    object \n",
      " 12  UNDERINFL       189789 non-null  object \n",
      " 13  INATTENTIONIND  29805 non-null   object \n",
      "dtypes: float64(2), int64(3), object(9)\n",
      "memory usage: 20.8+ MB\n"
     ]
    }
   ],
   "source": [
    "colData.info()"
   ]
  },
  {
   "cell_type": "code",
   "execution_count": 9,
   "metadata": {},
   "outputs": [],
   "source": [
    "filterCond = (colData.LIGHTCOND == 'Other') | (colData.LIGHTCOND == 'Unknown') | \\\n",
    "                      (colData.LIGHTCOND == 'Dark - Unknown Lighting') |\\\n",
    "                      (colData.ROADCOND == 'Other') | (colData.ROADCOND == 'Unknown') | \\\n",
    "                      (colData.WEATHER == 'Other') | (colData.WEATHER == 'Unknown') | \\\n",
    "                      (colData.JUNCTIONTYPE == 'Other') | (colData.JUNCTIONTYPE == 'Unknown') | \\\n",
    "                      (colData.COLLISIONTYPE == 'Other')\n",
    "colData = colData.drop(colData[filterCond].index)"
   ]
  },
  {
   "cell_type": "code",
   "execution_count": 10,
   "metadata": {},
   "outputs": [
    {
     "name": "stdout",
     "output_type": "stream",
     "text": [
      "<class 'pandas.core.frame.DataFrame'>\n",
      "Int64Index: 152645 entries, 0 to 194672\n",
      "Data columns (total 14 columns):\n",
      " #   Column          Non-Null Count   Dtype  \n",
      "---  ------          --------------   -----  \n",
      " 0   SEVERITYCODE    152645 non-null  int64  \n",
      " 1   X               150036 non-null  float64\n",
      " 2   Y               150036 non-null  float64\n",
      " 3   ADDRTYPE        151959 non-null  object \n",
      " 4   COLLISIONTYPE   147747 non-null  object \n",
      " 5   PERSONCOUNT     152645 non-null  int64  \n",
      " 6   VEHCOUNT        152645 non-null  int64  \n",
      " 7   JUNCTIONTYPE    150502 non-null  object \n",
      " 8   WEATHER         147636 non-null  object \n",
      " 9   ROADCOND        147668 non-null  object \n",
      " 10  LIGHTCOND       147564 non-null  object \n",
      " 11  SPEEDING        5442 non-null    object \n",
      " 12  UNDERINFL       147763 non-null  object \n",
      " 13  INATTENTIONIND  25894 non-null   object \n",
      "dtypes: float64(2), int64(3), object(9)\n",
      "memory usage: 17.5+ MB\n"
     ]
    }
   ],
   "source": [
    "colData.info()"
   ]
  },
  {
   "cell_type": "code",
   "execution_count": 11,
   "metadata": {},
   "outputs": [],
   "source": [
    "colData[\"LIGHTCOND\"] = colData[\"LIGHTCOND\"].replace(\"Dark - Street Lights Off\", \"Dark - No Street Lights\")\n",
    "colData[\"UNDERINFL\"] = colData[\"UNDERINFL\"].replace(\"N\", 0)\n",
    "colData[\"UNDERINFL\"] = colData[\"UNDERINFL\"].replace(\"0\", 0)\n",
    "colData[\"UNDERINFL\"] = colData[\"UNDERINFL\"].replace(\"1\", 1)\n",
    "colData[\"UNDERINFL\"] = colData[\"UNDERINFL\"].replace(\"Y\", 1)\n",
    "colData[\"INATTENTIONIND\"] = colData[\"INATTENTIONIND\"].replace(\"Y\", 1)\n",
    "colData[\"SPEEDING\"] = colData[\"SPEEDING\"].replace(\"Y\", 1)"
   ]
  },
  {
   "cell_type": "code",
   "execution_count": 45,
   "metadata": {},
   "outputs": [
    {
     "name": "stdout",
     "output_type": "stream",
     "text": [
      "SEVERITYCODE\n",
      "1    94818\n",
      "2    48923\n",
      "Name: SEVERITYCODE, dtype: int64\n",
      "\n",
      "ADDRTYPE\n",
      "Block           86381\n",
      "Intersection    57360\n",
      "Name: ADDRTYPE, dtype: int64\n",
      "\n",
      "COLLISIONTYPE\n",
      "Angles        33576\n",
      "Parked Car    32260\n",
      "Rear Ended    31534\n",
      "Sideswipe     17020\n",
      "Left Turn     13269\n",
      "Pedestrian     6224\n",
      "Cycles         5162\n",
      "Right Turn     2774\n",
      "Head On        1922\n",
      "Name: COLLISIONTYPE, dtype: int64\n",
      "\n",
      "JUNCTIONTYPE\n",
      "Mid-Block (not related to intersection)              62014\n",
      "At Intersection (intersection related)               55795\n",
      "Mid-Block (but intersection related)                 17953\n",
      "Driveway Junction                                     6327\n",
      "At Intersection (but not related to intersection)     1542\n",
      "Ramp Junction                                          110\n",
      "Name: JUNCTIONTYPE, dtype: int64\n",
      "\n",
      "WEATHER\n",
      "Clear                       93350\n",
      "Raining                     26670\n",
      "Overcast                    22543\n",
      "Snowing                       622\n",
      "Fog/Smog/Smoke                419\n",
      "Sleet/Hail/Freezing Rain       79\n",
      "Blowing Sand/Dirt              39\n",
      "Severe Crosswind               15\n",
      "Partly Cloudy                   4\n",
      "Name: WEATHER, dtype: int64\n",
      "\n",
      "ROADCOND\n",
      "Dry               104353\n",
      "Wet                37977\n",
      "Ice                  682\n",
      "Snow/Slush           629\n",
      "Standing Water        49\n",
      "Sand/Mud/Dirt         30\n",
      "Oil                   21\n",
      "Name: ROADCOND, dtype: int64\n",
      "\n",
      "LIGHTCOND\n",
      "Daylight                   97737\n",
      "Dark - Street Lights On    37311\n",
      "Dusk                        4860\n",
      "Dawn                        1920\n",
      "Dark - No Street Lights     1913\n",
      "Name: LIGHTCOND, dtype: int64\n",
      "\n",
      "SPEEDING\n",
      "0.0    138480\n",
      "1.0      5261\n",
      "Name: SPEEDING, dtype: int64\n",
      "\n",
      "UNDERINFL\n",
      "0.0    137440\n",
      "1.0      6301\n",
      "Name: UNDERINFL, dtype: int64\n",
      "\n",
      "INATTENTIONIND\n",
      "0.0    118455\n",
      "1.0     25286\n",
      "Name: INATTENTIONIND, dtype: int64\n",
      "\n"
     ]
    }
   ],
   "source": [
    "\n",
    "def list_count(columns, df):\n",
    "    for col in columns:\n",
    "        print(col)\n",
    "        print(df[col].value_counts())\n",
    "        print()\n",
    "\n",
    "data_columns = ['SEVERITYCODE','ADDRTYPE', 'COLLISIONTYPE', 'JUNCTIONTYPE', 'WEATHER', \n",
    " 'ROADCOND','LIGHTCOND', 'SPEEDING', 'UNDERINFL', 'INATTENTIONIND']\n",
    "list_count(data_columns, colData)\n"
   ]
  },
  {
   "cell_type": "markdown",
   "metadata": {},
   "source": [
    "Treat the following columns as true only if the field is filled."
   ]
  },
  {
   "cell_type": "code",
   "execution_count": 13,
   "metadata": {},
   "outputs": [
    {
     "data": {
      "text/plain": [
       "SEVERITYCODE         0\n",
       "X                 2609\n",
       "Y                 2609\n",
       "ADDRTYPE           686\n",
       "COLLISIONTYPE     4898\n",
       "PERSONCOUNT          0\n",
       "VEHCOUNT             0\n",
       "JUNCTIONTYPE      2143\n",
       "WEATHER           5009\n",
       "ROADCOND          4977\n",
       "LIGHTCOND         5081\n",
       "SPEEDING             0\n",
       "UNDERINFL            0\n",
       "INATTENTIONIND       0\n",
       "dtype: int64"
      ]
     },
     "execution_count": 13,
     "metadata": {},
     "output_type": "execute_result"
    }
   ],
   "source": [
    "colData['UNDERINFL'] = colData['UNDERINFL'].fillna(0)\n",
    "colData['INATTENTIONIND'] = colData['INATTENTIONIND'].fillna(0)\n",
    "colData['SPEEDING'] = colData['SPEEDING'].fillna(0)\n",
    "colData.isna().sum()"
   ]
  },
  {
   "cell_type": "code",
   "execution_count": 14,
   "metadata": {},
   "outputs": [
    {
     "data": {
      "text/plain": [
       "SEVERITYCODE      0\n",
       "X                 0\n",
       "Y                 0\n",
       "ADDRTYPE          0\n",
       "COLLISIONTYPE     0\n",
       "PERSONCOUNT       0\n",
       "VEHCOUNT          0\n",
       "JUNCTIONTYPE      0\n",
       "WEATHER           0\n",
       "ROADCOND          0\n",
       "LIGHTCOND         0\n",
       "SPEEDING          0\n",
       "UNDERINFL         0\n",
       "INATTENTIONIND    0\n",
       "dtype: int64"
      ]
     },
     "execution_count": 14,
     "metadata": {},
     "output_type": "execute_result"
    }
   ],
   "source": [
    "colData.dropna(inplace=True)\n",
    "colData.isna().sum()"
   ]
  },
  {
   "cell_type": "code",
   "execution_count": 15,
   "metadata": {},
   "outputs": [
    {
     "name": "stdout",
     "output_type": "stream",
     "text": [
      "<class 'pandas.core.frame.DataFrame'>\n",
      "Int64Index: 143741 entries, 0 to 194672\n",
      "Data columns (total 14 columns):\n",
      " #   Column          Non-Null Count   Dtype  \n",
      "---  ------          --------------   -----  \n",
      " 0   SEVERITYCODE    143741 non-null  int64  \n",
      " 1   X               143741 non-null  float64\n",
      " 2   Y               143741 non-null  float64\n",
      " 3   ADDRTYPE        143741 non-null  object \n",
      " 4   COLLISIONTYPE   143741 non-null  object \n",
      " 5   PERSONCOUNT     143741 non-null  int64  \n",
      " 6   VEHCOUNT        143741 non-null  int64  \n",
      " 7   JUNCTIONTYPE    143741 non-null  object \n",
      " 8   WEATHER         143741 non-null  object \n",
      " 9   ROADCOND        143741 non-null  object \n",
      " 10  LIGHTCOND       143741 non-null  object \n",
      " 11  SPEEDING        143741 non-null  float64\n",
      " 12  UNDERINFL       143741 non-null  float64\n",
      " 13  INATTENTIONIND  143741 non-null  float64\n",
      "dtypes: float64(5), int64(3), object(6)\n",
      "memory usage: 16.4+ MB\n"
     ]
    }
   ],
   "source": [
    "colData.info()"
   ]
  },
  {
   "cell_type": "code",
   "execution_count": 34,
   "metadata": {},
   "outputs": [
    {
     "name": "stdout",
     "output_type": "stream",
     "text": [
      "Intersection    25747\n",
      "Block           23176\n",
      "Name: ADDRTYPE, dtype: int64\n",
      "Block           63205\n",
      "Intersection    31613\n",
      "Name: ADDRTYPE, dtype: int64\n"
     ]
    }
   ],
   "source": [
    "import seaborn as sns\n",
    "#sns.boxplot(x=\"ADDRTYPE\", y=\"SEVERITYCODE\", data=colData)\n",
    "severeCols = colData[colData.SEVERITYCODE == 2]\n",
    "print(severeCols[\"ADDRTYPE\"].value_counts())\n",
    "notSevereCols = colData[colData.SEVERITYCODE == 1]\n",
    "print(notSevereCols[\"ADDRTYPE\"].value_counts())"
   ]
  },
  {
   "cell_type": "markdown",
   "metadata": {},
   "source": [
    "Not severe collitions are most probable in blocks than intersections"
   ]
  },
  {
   "cell_type": "code",
   "execution_count": 46,
   "metadata": {},
   "outputs": [
    {
     "name": "stdout",
     "output_type": "stream",
     "text": [
      "SEVERITYCODE\n",
      "2    48923\n",
      "Name: SEVERITYCODE, dtype: int64\n",
      "\n",
      "ADDRTYPE\n",
      "Intersection    25747\n",
      "Block           23176\n",
      "Name: ADDRTYPE, dtype: int64\n",
      "\n",
      "COLLISIONTYPE\n",
      "Rear Ended    13774\n",
      "Angles        13338\n",
      "Pedestrian     5599\n",
      "Left Turn      5307\n",
      "Cycles         4559\n",
      "Parked Car     2564\n",
      "Sideswipe      2350\n",
      "Head On         843\n",
      "Right Turn      589\n",
      "Name: COLLISIONTYPE, dtype: int64\n",
      "\n",
      "JUNCTIONTYPE\n",
      "At Intersection (intersection related)               25205\n",
      "Mid-Block (not related to intersection)              14795\n",
      "Mid-Block (but intersection related)                  6285\n",
      "Driveway Junction                                     2069\n",
      "At Intersection (but not related to intersection)      533\n",
      "Ramp Junction                                           36\n",
      "Name: JUNCTIONTYPE, dtype: int64\n",
      "\n",
      "WEATHER\n",
      "Clear                       31585\n",
      "Raining                      9499\n",
      "Overcast                     7545\n",
      "Fog/Smog/Smoke                138\n",
      "Snowing                       118\n",
      "Sleet/Hail/Freezing Rain       22\n",
      "Blowing Sand/Dirt              11\n",
      "Partly Cloudy                   3\n",
      "Severe Crosswind                2\n",
      "Name: WEATHER, dtype: int64\n",
      "\n",
      "ROADCOND\n",
      "Dry               35256\n",
      "Wet               13349\n",
      "Ice                 168\n",
      "Snow/Slush          114\n",
      "Standing Water       15\n",
      "Sand/Mud/Dirt        12\n",
      "Oil                   9\n",
      "Name: ROADCOND, dtype: int64\n",
      "\n",
      "LIGHTCOND\n",
      "Daylight                   34173\n",
      "Dark - Street Lights On    11890\n",
      "Dusk                        1680\n",
      "Dawn                         675\n",
      "Dark - No Street Lights      505\n",
      "Name: LIGHTCOND, dtype: int64\n",
      "\n",
      "SPEEDING\n",
      "0.0    46714\n",
      "1.0     2209\n",
      "Name: SPEEDING, dtype: int64\n",
      "\n",
      "UNDERINFL\n",
      "0.0    46319\n",
      "1.0     2604\n",
      "Name: UNDERINFL, dtype: int64\n",
      "\n",
      "INATTENTIONIND\n",
      "0.0    39567\n",
      "1.0     9356\n",
      "Name: INATTENTIONIND, dtype: int64\n",
      "\n"
     ]
    }
   ],
   "source": [
    "list_count(data_columns, severeCols)"
   ]
  },
  {
   "cell_type": "code",
   "execution_count": 47,
   "metadata": {},
   "outputs": [
    {
     "name": "stdout",
     "output_type": "stream",
     "text": [
      "SEVERITYCODE\n",
      "1    94818\n",
      "Name: SEVERITYCODE, dtype: int64\n",
      "\n",
      "ADDRTYPE\n",
      "Block           63205\n",
      "Intersection    31613\n",
      "Name: ADDRTYPE, dtype: int64\n",
      "\n",
      "COLLISIONTYPE\n",
      "Parked Car    29696\n",
      "Angles        20238\n",
      "Rear Ended    17760\n",
      "Sideswipe     14670\n",
      "Left Turn      7962\n",
      "Right Turn     2185\n",
      "Head On        1079\n",
      "Pedestrian      625\n",
      "Cycles          603\n",
      "Name: COLLISIONTYPE, dtype: int64\n",
      "\n",
      "JUNCTIONTYPE\n",
      "Mid-Block (not related to intersection)              47219\n",
      "At Intersection (intersection related)               30590\n",
      "Mid-Block (but intersection related)                 11668\n",
      "Driveway Junction                                     4258\n",
      "At Intersection (but not related to intersection)     1009\n",
      "Ramp Junction                                           74\n",
      "Name: JUNCTIONTYPE, dtype: int64\n",
      "\n",
      "WEATHER\n",
      "Clear                       61765\n",
      "Raining                     17171\n",
      "Overcast                    14998\n",
      "Snowing                       504\n",
      "Fog/Smog/Smoke                281\n",
      "Sleet/Hail/Freezing Rain       57\n",
      "Blowing Sand/Dirt              28\n",
      "Severe Crosswind               13\n",
      "Partly Cloudy                   1\n",
      "Name: WEATHER, dtype: int64\n",
      "\n",
      "ROADCOND\n",
      "Dry               69097\n",
      "Wet               24628\n",
      "Snow/Slush          515\n",
      "Ice                 514\n",
      "Standing Water       34\n",
      "Sand/Mud/Dirt        18\n",
      "Oil                  12\n",
      "Name: ROADCOND, dtype: int64\n",
      "\n",
      "LIGHTCOND\n",
      "Daylight                   63564\n",
      "Dark - Street Lights On    25421\n",
      "Dusk                        3180\n",
      "Dark - No Street Lights     1408\n",
      "Dawn                        1245\n",
      "Name: LIGHTCOND, dtype: int64\n",
      "\n",
      "SPEEDING\n",
      "0.0    91766\n",
      "1.0     3052\n",
      "Name: SPEEDING, dtype: int64\n",
      "\n",
      "UNDERINFL\n",
      "0.0    91121\n",
      "1.0     3697\n",
      "Name: UNDERINFL, dtype: int64\n",
      "\n",
      "INATTENTIONIND\n",
      "0.0    78888\n",
      "1.0    15930\n",
      "Name: INATTENTIONIND, dtype: int64\n",
      "\n"
     ]
    }
   ],
   "source": [
    "list_count(data_columns, notSevereCols)"
   ]
  },
  {
   "cell_type": "code",
   "execution_count": 51,
   "metadata": {},
   "outputs": [
    {
     "data": {
      "text/html": [
       "<div>\n",
       "<style scoped>\n",
       "    .dataframe tbody tr th:only-of-type {\n",
       "        vertical-align: middle;\n",
       "    }\n",
       "\n",
       "    .dataframe tbody tr th {\n",
       "        vertical-align: top;\n",
       "    }\n",
       "\n",
       "    .dataframe thead th {\n",
       "        text-align: right;\n",
       "    }\n",
       "</style>\n",
       "<table border=\"1\" class=\"dataframe\">\n",
       "  <thead>\n",
       "    <tr style=\"text-align: right;\">\n",
       "      <th></th>\n",
       "      <th>ADDRTYPE</th>\n",
       "      <th>COLLISIONTYPE</th>\n",
       "      <th>JUNCTIONTYPE</th>\n",
       "      <th>WEATHER</th>\n",
       "      <th>ROADCOND</th>\n",
       "      <th>LIGHTCOND</th>\n",
       "    </tr>\n",
       "  </thead>\n",
       "  <tbody>\n",
       "    <tr>\n",
       "      <th>count</th>\n",
       "      <td>48923</td>\n",
       "      <td>48923</td>\n",
       "      <td>48923</td>\n",
       "      <td>48923</td>\n",
       "      <td>48923</td>\n",
       "      <td>48923</td>\n",
       "    </tr>\n",
       "    <tr>\n",
       "      <th>unique</th>\n",
       "      <td>2</td>\n",
       "      <td>9</td>\n",
       "      <td>6</td>\n",
       "      <td>9</td>\n",
       "      <td>7</td>\n",
       "      <td>5</td>\n",
       "    </tr>\n",
       "    <tr>\n",
       "      <th>top</th>\n",
       "      <td>Intersection</td>\n",
       "      <td>Rear Ended</td>\n",
       "      <td>At Intersection (intersection related)</td>\n",
       "      <td>Clear</td>\n",
       "      <td>Dry</td>\n",
       "      <td>Daylight</td>\n",
       "    </tr>\n",
       "    <tr>\n",
       "      <th>freq</th>\n",
       "      <td>25747</td>\n",
       "      <td>13774</td>\n",
       "      <td>25205</td>\n",
       "      <td>31585</td>\n",
       "      <td>35256</td>\n",
       "      <td>34173</td>\n",
       "    </tr>\n",
       "  </tbody>\n",
       "</table>\n",
       "</div>"
      ],
      "text/plain": [
       "            ADDRTYPE COLLISIONTYPE                            JUNCTIONTYPE  \\\n",
       "count          48923         48923                                   48923   \n",
       "unique             2             9                                       6   \n",
       "top     Intersection    Rear Ended  At Intersection (intersection related)   \n",
       "freq           25747         13774                                   25205   \n",
       "\n",
       "       WEATHER ROADCOND LIGHTCOND  \n",
       "count    48923    48923     48923  \n",
       "unique       9        7         5  \n",
       "top      Clear      Dry  Daylight  \n",
       "freq     31585    35256     34173  "
      ]
     },
     "execution_count": 51,
     "metadata": {},
     "output_type": "execute_result"
    }
   ],
   "source": [
    "severeCols.describe(include=['object'])"
   ]
  },
  {
   "cell_type": "code",
   "execution_count": 52,
   "metadata": {},
   "outputs": [
    {
     "data": {
      "text/html": [
       "<div>\n",
       "<style scoped>\n",
       "    .dataframe tbody tr th:only-of-type {\n",
       "        vertical-align: middle;\n",
       "    }\n",
       "\n",
       "    .dataframe tbody tr th {\n",
       "        vertical-align: top;\n",
       "    }\n",
       "\n",
       "    .dataframe thead th {\n",
       "        text-align: right;\n",
       "    }\n",
       "</style>\n",
       "<table border=\"1\" class=\"dataframe\">\n",
       "  <thead>\n",
       "    <tr style=\"text-align: right;\">\n",
       "      <th></th>\n",
       "      <th>ADDRTYPE</th>\n",
       "      <th>COLLISIONTYPE</th>\n",
       "      <th>JUNCTIONTYPE</th>\n",
       "      <th>WEATHER</th>\n",
       "      <th>ROADCOND</th>\n",
       "      <th>LIGHTCOND</th>\n",
       "    </tr>\n",
       "  </thead>\n",
       "  <tbody>\n",
       "    <tr>\n",
       "      <th>count</th>\n",
       "      <td>94818</td>\n",
       "      <td>94818</td>\n",
       "      <td>94818</td>\n",
       "      <td>94818</td>\n",
       "      <td>94818</td>\n",
       "      <td>94818</td>\n",
       "    </tr>\n",
       "    <tr>\n",
       "      <th>unique</th>\n",
       "      <td>2</td>\n",
       "      <td>9</td>\n",
       "      <td>6</td>\n",
       "      <td>9</td>\n",
       "      <td>7</td>\n",
       "      <td>5</td>\n",
       "    </tr>\n",
       "    <tr>\n",
       "      <th>top</th>\n",
       "      <td>Block</td>\n",
       "      <td>Parked Car</td>\n",
       "      <td>Mid-Block (not related to intersection)</td>\n",
       "      <td>Clear</td>\n",
       "      <td>Dry</td>\n",
       "      <td>Daylight</td>\n",
       "    </tr>\n",
       "    <tr>\n",
       "      <th>freq</th>\n",
       "      <td>63205</td>\n",
       "      <td>29696</td>\n",
       "      <td>47219</td>\n",
       "      <td>61765</td>\n",
       "      <td>69097</td>\n",
       "      <td>63564</td>\n",
       "    </tr>\n",
       "  </tbody>\n",
       "</table>\n",
       "</div>"
      ],
      "text/plain": [
       "       ADDRTYPE COLLISIONTYPE                             JUNCTIONTYPE  \\\n",
       "count     94818         94818                                    94818   \n",
       "unique        2             9                                        6   \n",
       "top       Block    Parked Car  Mid-Block (not related to intersection)   \n",
       "freq      63205         29696                                    47219   \n",
       "\n",
       "       WEATHER ROADCOND LIGHTCOND  \n",
       "count    94818    94818     94818  \n",
       "unique       9        7         5  \n",
       "top      Clear      Dry  Daylight  \n",
       "freq     61765    69097     63564  "
      ]
     },
     "execution_count": 52,
     "metadata": {},
     "output_type": "execute_result"
    }
   ],
   "source": [
    "notSevereCols.describe(include=['object'])"
   ]
  },
  {
   "cell_type": "code",
   "execution_count": 53,
   "metadata": {},
   "outputs": [
    {
     "ename": "TypeError",
     "evalue": "distplot() got an unexpected keyword argument 'x'",
     "output_type": "error",
     "traceback": [
      "\u001b[0;31m---------------------------------------------------------------------------\u001b[0m",
      "\u001b[0;31mTypeError\u001b[0m                                 Traceback (most recent call last)",
      "\u001b[0;32m<ipython-input-53-52b42c242447>\u001b[0m in \u001b[0;36m<module>\u001b[0;34m\u001b[0m\n\u001b[0;32m----> 1\u001b[0;31m \u001b[0msns\u001b[0m\u001b[0;34m.\u001b[0m\u001b[0mdistplot\u001b[0m\u001b[0;34m(\u001b[0m\u001b[0mx\u001b[0m\u001b[0;34m=\u001b[0m\u001b[0;34m'WEATHER'\u001b[0m\u001b[0;34m,\u001b[0m \u001b[0mdata\u001b[0m\u001b[0;34m=\u001b[0m\u001b[0msevereCols\u001b[0m\u001b[0;34m)\u001b[0m\u001b[0;34m\u001b[0m\u001b[0;34m\u001b[0m\u001b[0m\n\u001b[0m",
      "\u001b[0;31mTypeError\u001b[0m: distplot() got an unexpected keyword argument 'x'"
     ]
    }
   ],
   "source": [
    "sns.distplot(x='WEATHER', data=severeCols)"
   ]
  },
  {
   "cell_type": "code",
   "execution_count": 62,
   "metadata": {},
   "outputs": [
    {
     "data": {
      "text/plain": [
       "<AxesSubplot:xlabel='count', ylabel='LIGHTCOND'>"
      ]
     },
     "execution_count": 62,
     "metadata": {},
     "output_type": "execute_result"
    },
    {
     "data": {
      "image/png": "[encoded data removed]",
      "text/plain": [
       "<Figure size 432x288 with 1 Axes>"
      ]
     },
     "metadata": {
      "needs_background": "light"
     },
     "output_type": "display_data"
    }
   ],
   "source": [
    "sns.countplot(y=\"LIGHTCOND\", hue=\"SEVERITYCODE\", data=colData)"
   ]
  },
  {
   "cell_type": "code",
   "execution_count": 64,
   "metadata": {},
   "outputs": [],
   "source": [
    "from imblearn.under_sampling import RandomUnderSampler\n",
    "\n"
   ]
  },
  {
   "cell_type": "code",
   "execution_count": 67,
   "metadata": {},
   "outputs": [],
   "source": [
    "X = colData[['X', 'Y', 'ADDRTYPE', 'COLLISIONTYPE', 'PERSONCOUNT',\n",
    "       'VEHCOUNT', 'JUNCTIONTYPE', 'WEATHER', 'ROADCOND', 'LIGHTCOND',\n",
    "       'SPEEDING', 'UNDERINFL', 'INATTENTIONIND']]\n",
    "y = colData[['SEVERITYCODE']]"
   ]
  },
  {
   "cell_type": "code",
   "execution_count": 69,
   "metadata": {},
   "outputs": [],
   "source": [
    "rus = RandomUnderSampler(random_state=0)\n",
    "X_resampled, y_resampled = rus.fit_resample(X, y)"
   ]
  },
  {
   "cell_type": "code",
   "execution_count": 71,
   "metadata": {},
   "outputs": [],
   "source": [
    "cd2 = X_resampled\n",
    "cd2['severity'] = y_resampled"
   ]
  },
  {
   "cell_type": "code",
   "execution_count": 73,
   "metadata": {},
   "outputs": [
    {
     "data": {
      "text/plain": [
       "2    48923\n",
       "1    48923\n",
       "Name: severity, dtype: int64"
      ]
     },
     "execution_count": 73,
     "metadata": {},
     "output_type": "execute_result"
    }
   ],
   "source": [
    "cd2['severity'].value_counts()"
   ]
  },
  {
   "cell_type": "code",
   "execution_count": 77,
   "metadata": {},
   "outputs": [
    {
     "data": {
      "text/plain": [
       "<AxesSubplot:xlabel='count', ylabel='LIGHTCOND'>"
      ]
     },
     "execution_count": 77,
     "metadata": {},
     "output_type": "execute_result"
    },
    {
     "data": {
      "image/png": "[encoded data removed]",
      "text/plain": [
       "<Figure size 432x288 with 1 Axes>"
      ]
     },
     "metadata": {
      "needs_background": "light"
     },
     "output_type": "display_data"
    }
   ],
   "source": [
    "sns.countplot(y=\"LIGHTCOND\", hue=\"severity\", data=cd2)"
   ]
  },
  {
   "cell_type": "code",
   "execution_count": null,
   "metadata": {},
   "outputs": [],
   "source": []
  }
 ],
 "metadata": {
  "kernelspec": {
   "display_name": "Python 3",
   "language": "python",
   "name": "python3"
  },
  "language_info": {
   "codemirror_mode": {
    "name": "ipython",
    "version": 3
   },
   "file_extension": ".py",
   "mimetype": "text/x-python",
   "name": "python",
   "nbconvert_exporter": "python",
   "pygments_lexer": "ipython3",
   "version": "3.8.5"
  }
 },
 "nbformat": 4,
 "nbformat_minor": 4
}
